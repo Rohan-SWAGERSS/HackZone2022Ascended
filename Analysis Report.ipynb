{
 "cells": [
  {
   "cell_type": "code",
   "execution_count": 2,
   "id": "399dddb1",
   "metadata": {},
   "outputs": [],
   "source": [
    "import pandas as pd"
   ]
  },
  {
   "cell_type": "code",
   "execution_count": 3,
   "id": "2f81c917",
   "metadata": {},
   "outputs": [],
   "source": [
    "gini_df = pd.read_csv(\"data/SDR-2022-gini-coefficient.csv\")"
   ]
  },
  {
   "cell_type": "code",
   "execution_count": 24,
   "id": "1a479c24",
   "metadata": {
    "scrolled": true
   },
   "outputs": [
    {
     "data": {
      "text/html": [
       "<div>\n",
       "<style scoped>\n",
       "    .dataframe tbody tr th:only-of-type {\n",
       "        vertical-align: middle;\n",
       "    }\n",
       "\n",
       "    .dataframe tbody tr th {\n",
       "        vertical-align: top;\n",
       "    }\n",
       "\n",
       "    .dataframe thead th {\n",
       "        text-align: right;\n",
       "    }\n",
       "</style>\n",
       "<table border=\"1\" class=\"dataframe\">\n",
       "  <thead>\n",
       "    <tr style=\"text-align: right;\">\n",
       "      <th></th>\n",
       "      <th>ISO</th>\n",
       "      <th>Country</th>\n",
       "      <th>2000</th>\n",
       "      <th>2001</th>\n",
       "      <th>2002</th>\n",
       "      <th>2003</th>\n",
       "      <th>2004</th>\n",
       "      <th>2005</th>\n",
       "      <th>2006</th>\n",
       "      <th>2007</th>\n",
       "      <th>...</th>\n",
       "      <th>2010</th>\n",
       "      <th>2011</th>\n",
       "      <th>2012</th>\n",
       "      <th>2013</th>\n",
       "      <th>2014</th>\n",
       "      <th>2015</th>\n",
       "      <th>2016</th>\n",
       "      <th>2017</th>\n",
       "      <th>2018</th>\n",
       "      <th>2019</th>\n",
       "    </tr>\n",
       "  </thead>\n",
       "  <tbody>\n",
       "    <tr>\n",
       "      <th>0</th>\n",
       "      <td>BRA</td>\n",
       "      <td>Brazil</td>\n",
       "      <td>NaN</td>\n",
       "      <td>58.4</td>\n",
       "      <td>58.1</td>\n",
       "      <td>57.6</td>\n",
       "      <td>56.5</td>\n",
       "      <td>56.3</td>\n",
       "      <td>55.6</td>\n",
       "      <td>54.9</td>\n",
       "      <td>...</td>\n",
       "      <td>NaN</td>\n",
       "      <td>52.9</td>\n",
       "      <td>53.5</td>\n",
       "      <td>52.8</td>\n",
       "      <td>52.1</td>\n",
       "      <td>51.9</td>\n",
       "      <td>53.3</td>\n",
       "      <td>53.3</td>\n",
       "      <td>53.9</td>\n",
       "      <td>53.4</td>\n",
       "    </tr>\n",
       "    <tr>\n",
       "      <th>1</th>\n",
       "      <td>CAN</td>\n",
       "      <td>Canada</td>\n",
       "      <td>33.3</td>\n",
       "      <td>NaN</td>\n",
       "      <td>NaN</td>\n",
       "      <td>NaN</td>\n",
       "      <td>33.7</td>\n",
       "      <td>NaN</td>\n",
       "      <td>NaN</td>\n",
       "      <td>33.8</td>\n",
       "      <td>...</td>\n",
       "      <td>33.6</td>\n",
       "      <td>NaN</td>\n",
       "      <td>33.5</td>\n",
       "      <td>33.8</td>\n",
       "      <td>33.2</td>\n",
       "      <td>33.7</td>\n",
       "      <td>32.7</td>\n",
       "      <td>33.3</td>\n",
       "      <td>NaN</td>\n",
       "      <td>NaN</td>\n",
       "    </tr>\n",
       "    <tr>\n",
       "      <th>2</th>\n",
       "      <td>CHL</td>\n",
       "      <td>Chile</td>\n",
       "      <td>52.8</td>\n",
       "      <td>NaN</td>\n",
       "      <td>NaN</td>\n",
       "      <td>51.5</td>\n",
       "      <td>NaN</td>\n",
       "      <td>NaN</td>\n",
       "      <td>47.3</td>\n",
       "      <td>NaN</td>\n",
       "      <td>...</td>\n",
       "      <td>NaN</td>\n",
       "      <td>46.0</td>\n",
       "      <td>NaN</td>\n",
       "      <td>45.8</td>\n",
       "      <td>NaN</td>\n",
       "      <td>44.4</td>\n",
       "      <td>NaN</td>\n",
       "      <td>44.4</td>\n",
       "      <td>NaN</td>\n",
       "      <td>NaN</td>\n",
       "    </tr>\n",
       "    <tr>\n",
       "      <th>3</th>\n",
       "      <td>CHN</td>\n",
       "      <td>China</td>\n",
       "      <td>NaN</td>\n",
       "      <td>NaN</td>\n",
       "      <td>42.0</td>\n",
       "      <td>NaN</td>\n",
       "      <td>NaN</td>\n",
       "      <td>40.9</td>\n",
       "      <td>NaN</td>\n",
       "      <td>NaN</td>\n",
       "      <td>...</td>\n",
       "      <td>43.7</td>\n",
       "      <td>42.4</td>\n",
       "      <td>42.2</td>\n",
       "      <td>39.7</td>\n",
       "      <td>39.2</td>\n",
       "      <td>38.6</td>\n",
       "      <td>38.5</td>\n",
       "      <td>NaN</td>\n",
       "      <td>NaN</td>\n",
       "      <td>NaN</td>\n",
       "    </tr>\n",
       "    <tr>\n",
       "      <th>4</th>\n",
       "      <td>COD</td>\n",
       "      <td>Congo, Dem. Rep.</td>\n",
       "      <td>NaN</td>\n",
       "      <td>NaN</td>\n",
       "      <td>NaN</td>\n",
       "      <td>NaN</td>\n",
       "      <td>42.2</td>\n",
       "      <td>NaN</td>\n",
       "      <td>NaN</td>\n",
       "      <td>NaN</td>\n",
       "      <td>...</td>\n",
       "      <td>NaN</td>\n",
       "      <td>NaN</td>\n",
       "      <td>42.1</td>\n",
       "      <td>NaN</td>\n",
       "      <td>NaN</td>\n",
       "      <td>NaN</td>\n",
       "      <td>NaN</td>\n",
       "      <td>NaN</td>\n",
       "      <td>NaN</td>\n",
       "      <td>NaN</td>\n",
       "    </tr>\n",
       "    <tr>\n",
       "      <th>5</th>\n",
       "      <td>DEU</td>\n",
       "      <td>Germany</td>\n",
       "      <td>28.8</td>\n",
       "      <td>30.3</td>\n",
       "      <td>29.9</td>\n",
       "      <td>30.0</td>\n",
       "      <td>30.4</td>\n",
       "      <td>32.1</td>\n",
       "      <td>31.3</td>\n",
       "      <td>31.3</td>\n",
       "      <td>...</td>\n",
       "      <td>30.2</td>\n",
       "      <td>30.5</td>\n",
       "      <td>30.9</td>\n",
       "      <td>31.1</td>\n",
       "      <td>30.9</td>\n",
       "      <td>31.7</td>\n",
       "      <td>31.9</td>\n",
       "      <td>NaN</td>\n",
       "      <td>NaN</td>\n",
       "      <td>NaN</td>\n",
       "    </tr>\n",
       "    <tr>\n",
       "      <th>6</th>\n",
       "      <td>EGY</td>\n",
       "      <td>Egypt, Arab Rep.</td>\n",
       "      <td>NaN</td>\n",
       "      <td>NaN</td>\n",
       "      <td>NaN</td>\n",
       "      <td>NaN</td>\n",
       "      <td>31.8</td>\n",
       "      <td>NaN</td>\n",
       "      <td>NaN</td>\n",
       "      <td>NaN</td>\n",
       "      <td>...</td>\n",
       "      <td>30.2</td>\n",
       "      <td>NaN</td>\n",
       "      <td>28.3</td>\n",
       "      <td>NaN</td>\n",
       "      <td>NaN</td>\n",
       "      <td>31.8</td>\n",
       "      <td>NaN</td>\n",
       "      <td>31.5</td>\n",
       "      <td>NaN</td>\n",
       "      <td>NaN</td>\n",
       "    </tr>\n",
       "    <tr>\n",
       "      <th>7</th>\n",
       "      <td>FRA</td>\n",
       "      <td>France</td>\n",
       "      <td>31.1</td>\n",
       "      <td>NaN</td>\n",
       "      <td>NaN</td>\n",
       "      <td>31.4</td>\n",
       "      <td>30.6</td>\n",
       "      <td>29.8</td>\n",
       "      <td>29.7</td>\n",
       "      <td>32.4</td>\n",
       "      <td>...</td>\n",
       "      <td>33.7</td>\n",
       "      <td>33.3</td>\n",
       "      <td>33.1</td>\n",
       "      <td>32.5</td>\n",
       "      <td>32.3</td>\n",
       "      <td>32.7</td>\n",
       "      <td>31.9</td>\n",
       "      <td>31.6</td>\n",
       "      <td>32.4</td>\n",
       "      <td>NaN</td>\n",
       "    </tr>\n",
       "    <tr>\n",
       "      <th>8</th>\n",
       "      <td>GBR</td>\n",
       "      <td>United Kingdom</td>\n",
       "      <td>38.4</td>\n",
       "      <td>37.3</td>\n",
       "      <td>35.1</td>\n",
       "      <td>35.1</td>\n",
       "      <td>36.0</td>\n",
       "      <td>34.3</td>\n",
       "      <td>34.6</td>\n",
       "      <td>35.7</td>\n",
       "      <td>...</td>\n",
       "      <td>34.4</td>\n",
       "      <td>33.2</td>\n",
       "      <td>32.3</td>\n",
       "      <td>33.2</td>\n",
       "      <td>34.0</td>\n",
       "      <td>33.2</td>\n",
       "      <td>34.8</td>\n",
       "      <td>35.1</td>\n",
       "      <td>NaN</td>\n",
       "      <td>NaN</td>\n",
       "    </tr>\n",
       "    <tr>\n",
       "      <th>9</th>\n",
       "      <td>IND</td>\n",
       "      <td>India</td>\n",
       "      <td>NaN</td>\n",
       "      <td>NaN</td>\n",
       "      <td>NaN</td>\n",
       "      <td>NaN</td>\n",
       "      <td>34.4</td>\n",
       "      <td>NaN</td>\n",
       "      <td>NaN</td>\n",
       "      <td>NaN</td>\n",
       "      <td>...</td>\n",
       "      <td>NaN</td>\n",
       "      <td>35.7</td>\n",
       "      <td>NaN</td>\n",
       "      <td>NaN</td>\n",
       "      <td>NaN</td>\n",
       "      <td>NaN</td>\n",
       "      <td>NaN</td>\n",
       "      <td>NaN</td>\n",
       "      <td>NaN</td>\n",
       "      <td>NaN</td>\n",
       "    </tr>\n",
       "    <tr>\n",
       "      <th>10</th>\n",
       "      <td>ITA</td>\n",
       "      <td>Italy</td>\n",
       "      <td>35.3</td>\n",
       "      <td>NaN</td>\n",
       "      <td>NaN</td>\n",
       "      <td>34.9</td>\n",
       "      <td>34.3</td>\n",
       "      <td>33.8</td>\n",
       "      <td>33.7</td>\n",
       "      <td>32.9</td>\n",
       "      <td>...</td>\n",
       "      <td>34.7</td>\n",
       "      <td>35.1</td>\n",
       "      <td>35.2</td>\n",
       "      <td>34.9</td>\n",
       "      <td>34.7</td>\n",
       "      <td>35.4</td>\n",
       "      <td>35.2</td>\n",
       "      <td>35.9</td>\n",
       "      <td>NaN</td>\n",
       "      <td>NaN</td>\n",
       "    </tr>\n",
       "    <tr>\n",
       "      <th>11</th>\n",
       "      <td>KAZ</td>\n",
       "      <td>Kazakhstan</td>\n",
       "      <td>NaN</td>\n",
       "      <td>36.0</td>\n",
       "      <td>34.8</td>\n",
       "      <td>33.7</td>\n",
       "      <td>31.8</td>\n",
       "      <td>39.8</td>\n",
       "      <td>30.2</td>\n",
       "      <td>30.1</td>\n",
       "      <td>...</td>\n",
       "      <td>28.0</td>\n",
       "      <td>28.0</td>\n",
       "      <td>28.2</td>\n",
       "      <td>27.1</td>\n",
       "      <td>27.0</td>\n",
       "      <td>26.8</td>\n",
       "      <td>27.2</td>\n",
       "      <td>27.5</td>\n",
       "      <td>27.8</td>\n",
       "      <td>NaN</td>\n",
       "    </tr>\n",
       "    <tr>\n",
       "      <th>12</th>\n",
       "      <td>KEN</td>\n",
       "      <td>Kenya</td>\n",
       "      <td>NaN</td>\n",
       "      <td>NaN</td>\n",
       "      <td>NaN</td>\n",
       "      <td>NaN</td>\n",
       "      <td>NaN</td>\n",
       "      <td>46.5</td>\n",
       "      <td>NaN</td>\n",
       "      <td>NaN</td>\n",
       "      <td>...</td>\n",
       "      <td>NaN</td>\n",
       "      <td>NaN</td>\n",
       "      <td>NaN</td>\n",
       "      <td>NaN</td>\n",
       "      <td>NaN</td>\n",
       "      <td>40.8</td>\n",
       "      <td>NaN</td>\n",
       "      <td>NaN</td>\n",
       "      <td>NaN</td>\n",
       "      <td>NaN</td>\n",
       "    </tr>\n",
       "    <tr>\n",
       "      <th>13</th>\n",
       "      <td>LKA</td>\n",
       "      <td>Sri Lanka</td>\n",
       "      <td>NaN</td>\n",
       "      <td>NaN</td>\n",
       "      <td>40.2</td>\n",
       "      <td>NaN</td>\n",
       "      <td>NaN</td>\n",
       "      <td>NaN</td>\n",
       "      <td>39.7</td>\n",
       "      <td>NaN</td>\n",
       "      <td>...</td>\n",
       "      <td>NaN</td>\n",
       "      <td>NaN</td>\n",
       "      <td>38.7</td>\n",
       "      <td>NaN</td>\n",
       "      <td>NaN</td>\n",
       "      <td>NaN</td>\n",
       "      <td>39.3</td>\n",
       "      <td>NaN</td>\n",
       "      <td>NaN</td>\n",
       "      <td>NaN</td>\n",
       "    </tr>\n",
       "    <tr>\n",
       "      <th>14</th>\n",
       "      <td>MEX</td>\n",
       "      <td>Mexico</td>\n",
       "      <td>52.6</td>\n",
       "      <td>NaN</td>\n",
       "      <td>50.1</td>\n",
       "      <td>NaN</td>\n",
       "      <td>50.0</td>\n",
       "      <td>50.1</td>\n",
       "      <td>48.9</td>\n",
       "      <td>NaN</td>\n",
       "      <td>...</td>\n",
       "      <td>47.2</td>\n",
       "      <td>NaN</td>\n",
       "      <td>48.7</td>\n",
       "      <td>NaN</td>\n",
       "      <td>48.7</td>\n",
       "      <td>NaN</td>\n",
       "      <td>46.3</td>\n",
       "      <td>NaN</td>\n",
       "      <td>45.4</td>\n",
       "      <td>NaN</td>\n",
       "    </tr>\n",
       "    <tr>\n",
       "      <th>15</th>\n",
       "      <td>NGA</td>\n",
       "      <td>Nigeria</td>\n",
       "      <td>NaN</td>\n",
       "      <td>NaN</td>\n",
       "      <td>NaN</td>\n",
       "      <td>40.1</td>\n",
       "      <td>NaN</td>\n",
       "      <td>NaN</td>\n",
       "      <td>NaN</td>\n",
       "      <td>NaN</td>\n",
       "      <td>...</td>\n",
       "      <td>NaN</td>\n",
       "      <td>NaN</td>\n",
       "      <td>NaN</td>\n",
       "      <td>NaN</td>\n",
       "      <td>NaN</td>\n",
       "      <td>NaN</td>\n",
       "      <td>NaN</td>\n",
       "      <td>NaN</td>\n",
       "      <td>35.1</td>\n",
       "      <td>NaN</td>\n",
       "    </tr>\n",
       "    <tr>\n",
       "      <th>16</th>\n",
       "      <td>NOR</td>\n",
       "      <td>Norway</td>\n",
       "      <td>27.4</td>\n",
       "      <td>NaN</td>\n",
       "      <td>NaN</td>\n",
       "      <td>27.6</td>\n",
       "      <td>31.6</td>\n",
       "      <td>30.6</td>\n",
       "      <td>26.4</td>\n",
       "      <td>27.1</td>\n",
       "      <td>...</td>\n",
       "      <td>25.7</td>\n",
       "      <td>25.3</td>\n",
       "      <td>25.7</td>\n",
       "      <td>26.4</td>\n",
       "      <td>26.8</td>\n",
       "      <td>27.5</td>\n",
       "      <td>28.5</td>\n",
       "      <td>27.0</td>\n",
       "      <td>27.6</td>\n",
       "      <td>NaN</td>\n",
       "    </tr>\n",
       "    <tr>\n",
       "      <th>17</th>\n",
       "      <td>PAK</td>\n",
       "      <td>Pakistan</td>\n",
       "      <td>NaN</td>\n",
       "      <td>30.4</td>\n",
       "      <td>NaN</td>\n",
       "      <td>NaN</td>\n",
       "      <td>32.5</td>\n",
       "      <td>32.7</td>\n",
       "      <td>NaN</td>\n",
       "      <td>31.6</td>\n",
       "      <td>...</td>\n",
       "      <td>29.8</td>\n",
       "      <td>30.9</td>\n",
       "      <td>NaN</td>\n",
       "      <td>30.7</td>\n",
       "      <td>NaN</td>\n",
       "      <td>32.6</td>\n",
       "      <td>NaN</td>\n",
       "      <td>NaN</td>\n",
       "      <td>31.6</td>\n",
       "      <td>NaN</td>\n",
       "    </tr>\n",
       "    <tr>\n",
       "      <th>18</th>\n",
       "      <td>PER</td>\n",
       "      <td>Peru</td>\n",
       "      <td>49.1</td>\n",
       "      <td>51.3</td>\n",
       "      <td>53.6</td>\n",
       "      <td>53.1</td>\n",
       "      <td>49.9</td>\n",
       "      <td>50.4</td>\n",
       "      <td>50.3</td>\n",
       "      <td>50.0</td>\n",
       "      <td>...</td>\n",
       "      <td>45.5</td>\n",
       "      <td>44.7</td>\n",
       "      <td>44.4</td>\n",
       "      <td>43.9</td>\n",
       "      <td>43.1</td>\n",
       "      <td>43.4</td>\n",
       "      <td>43.6</td>\n",
       "      <td>43.3</td>\n",
       "      <td>42.4</td>\n",
       "      <td>41.5</td>\n",
       "    </tr>\n",
       "    <tr>\n",
       "      <th>19</th>\n",
       "      <td>PHL</td>\n",
       "      <td>Philippines</td>\n",
       "      <td>47.7</td>\n",
       "      <td>NaN</td>\n",
       "      <td>NaN</td>\n",
       "      <td>46.6</td>\n",
       "      <td>NaN</td>\n",
       "      <td>NaN</td>\n",
       "      <td>47.2</td>\n",
       "      <td>NaN</td>\n",
       "      <td>...</td>\n",
       "      <td>NaN</td>\n",
       "      <td>NaN</td>\n",
       "      <td>46.5</td>\n",
       "      <td>NaN</td>\n",
       "      <td>NaN</td>\n",
       "      <td>44.6</td>\n",
       "      <td>NaN</td>\n",
       "      <td>NaN</td>\n",
       "      <td>42.3</td>\n",
       "      <td>NaN</td>\n",
       "    </tr>\n",
       "    <tr>\n",
       "      <th>20</th>\n",
       "      <td>PRY</td>\n",
       "      <td>Paraguay</td>\n",
       "      <td>NaN</td>\n",
       "      <td>54.6</td>\n",
       "      <td>57.3</td>\n",
       "      <td>54.9</td>\n",
       "      <td>52.3</td>\n",
       "      <td>51.4</td>\n",
       "      <td>53.0</td>\n",
       "      <td>53.0</td>\n",
       "      <td>...</td>\n",
       "      <td>51.0</td>\n",
       "      <td>52.3</td>\n",
       "      <td>47.6</td>\n",
       "      <td>47.9</td>\n",
       "      <td>50.7</td>\n",
       "      <td>47.6</td>\n",
       "      <td>47.9</td>\n",
       "      <td>48.5</td>\n",
       "      <td>46.0</td>\n",
       "      <td>45.7</td>\n",
       "    </tr>\n",
       "    <tr>\n",
       "      <th>21</th>\n",
       "      <td>USA</td>\n",
       "      <td>United States</td>\n",
       "      <td>40.1</td>\n",
       "      <td>40.6</td>\n",
       "      <td>40.4</td>\n",
       "      <td>40.8</td>\n",
       "      <td>40.3</td>\n",
       "      <td>41.0</td>\n",
       "      <td>41.4</td>\n",
       "      <td>40.8</td>\n",
       "      <td>...</td>\n",
       "      <td>40.0</td>\n",
       "      <td>40.9</td>\n",
       "      <td>40.9</td>\n",
       "      <td>40.7</td>\n",
       "      <td>41.5</td>\n",
       "      <td>41.2</td>\n",
       "      <td>41.1</td>\n",
       "      <td>41.2</td>\n",
       "      <td>41.4</td>\n",
       "      <td>NaN</td>\n",
       "    </tr>\n",
       "    <tr>\n",
       "      <th>22</th>\n",
       "      <td>ZAF</td>\n",
       "      <td>South Africa</td>\n",
       "      <td>57.8</td>\n",
       "      <td>NaN</td>\n",
       "      <td>NaN</td>\n",
       "      <td>NaN</td>\n",
       "      <td>NaN</td>\n",
       "      <td>64.8</td>\n",
       "      <td>NaN</td>\n",
       "      <td>NaN</td>\n",
       "      <td>...</td>\n",
       "      <td>63.4</td>\n",
       "      <td>NaN</td>\n",
       "      <td>NaN</td>\n",
       "      <td>NaN</td>\n",
       "      <td>63.0</td>\n",
       "      <td>NaN</td>\n",
       "      <td>NaN</td>\n",
       "      <td>NaN</td>\n",
       "      <td>NaN</td>\n",
       "      <td>NaN</td>\n",
       "    </tr>\n",
       "  </tbody>\n",
       "</table>\n",
       "<p>23 rows × 22 columns</p>\n",
       "</div>"
      ],
      "text/plain": [
       "    ISO           Country  2000  2001  2002  2003  2004  2005  2006  2007  \\\n",
       "0   BRA            Brazil   NaN  58.4  58.1  57.6  56.5  56.3  55.6  54.9   \n",
       "1   CAN            Canada  33.3   NaN   NaN   NaN  33.7   NaN   NaN  33.8   \n",
       "2   CHL             Chile  52.8   NaN   NaN  51.5   NaN   NaN  47.3   NaN   \n",
       "3   CHN             China   NaN   NaN  42.0   NaN   NaN  40.9   NaN   NaN   \n",
       "4   COD  Congo, Dem. Rep.   NaN   NaN   NaN   NaN  42.2   NaN   NaN   NaN   \n",
       "5   DEU           Germany  28.8  30.3  29.9  30.0  30.4  32.1  31.3  31.3   \n",
       "6   EGY  Egypt, Arab Rep.   NaN   NaN   NaN   NaN  31.8   NaN   NaN   NaN   \n",
       "7   FRA            France  31.1   NaN   NaN  31.4  30.6  29.8  29.7  32.4   \n",
       "8   GBR    United Kingdom  38.4  37.3  35.1  35.1  36.0  34.3  34.6  35.7   \n",
       "9   IND             India   NaN   NaN   NaN   NaN  34.4   NaN   NaN   NaN   \n",
       "10  ITA             Italy  35.3   NaN   NaN  34.9  34.3  33.8  33.7  32.9   \n",
       "11  KAZ        Kazakhstan   NaN  36.0  34.8  33.7  31.8  39.8  30.2  30.1   \n",
       "12  KEN             Kenya   NaN   NaN   NaN   NaN   NaN  46.5   NaN   NaN   \n",
       "13  LKA         Sri Lanka   NaN   NaN  40.2   NaN   NaN   NaN  39.7   NaN   \n",
       "14  MEX            Mexico  52.6   NaN  50.1   NaN  50.0  50.1  48.9   NaN   \n",
       "15  NGA           Nigeria   NaN   NaN   NaN  40.1   NaN   NaN   NaN   NaN   \n",
       "16  NOR            Norway  27.4   NaN   NaN  27.6  31.6  30.6  26.4  27.1   \n",
       "17  PAK          Pakistan   NaN  30.4   NaN   NaN  32.5  32.7   NaN  31.6   \n",
       "18  PER              Peru  49.1  51.3  53.6  53.1  49.9  50.4  50.3  50.0   \n",
       "19  PHL       Philippines  47.7   NaN   NaN  46.6   NaN   NaN  47.2   NaN   \n",
       "20  PRY          Paraguay   NaN  54.6  57.3  54.9  52.3  51.4  53.0  53.0   \n",
       "21  USA     United States  40.1  40.6  40.4  40.8  40.3  41.0  41.4  40.8   \n",
       "22  ZAF      South Africa  57.8   NaN   NaN   NaN   NaN  64.8   NaN   NaN   \n",
       "\n",
       "    ...  2010  2011  2012  2013  2014  2015  2016  2017  2018  2019  \n",
       "0   ...   NaN  52.9  53.5  52.8  52.1  51.9  53.3  53.3  53.9  53.4  \n",
       "1   ...  33.6   NaN  33.5  33.8  33.2  33.7  32.7  33.3   NaN   NaN  \n",
       "2   ...   NaN  46.0   NaN  45.8   NaN  44.4   NaN  44.4   NaN   NaN  \n",
       "3   ...  43.7  42.4  42.2  39.7  39.2  38.6  38.5   NaN   NaN   NaN  \n",
       "4   ...   NaN   NaN  42.1   NaN   NaN   NaN   NaN   NaN   NaN   NaN  \n",
       "5   ...  30.2  30.5  30.9  31.1  30.9  31.7  31.9   NaN   NaN   NaN  \n",
       "6   ...  30.2   NaN  28.3   NaN   NaN  31.8   NaN  31.5   NaN   NaN  \n",
       "7   ...  33.7  33.3  33.1  32.5  32.3  32.7  31.9  31.6  32.4   NaN  \n",
       "8   ...  34.4  33.2  32.3  33.2  34.0  33.2  34.8  35.1   NaN   NaN  \n",
       "9   ...   NaN  35.7   NaN   NaN   NaN   NaN   NaN   NaN   NaN   NaN  \n",
       "10  ...  34.7  35.1  35.2  34.9  34.7  35.4  35.2  35.9   NaN   NaN  \n",
       "11  ...  28.0  28.0  28.2  27.1  27.0  26.8  27.2  27.5  27.8   NaN  \n",
       "12  ...   NaN   NaN   NaN   NaN   NaN  40.8   NaN   NaN   NaN   NaN  \n",
       "13  ...   NaN   NaN  38.7   NaN   NaN   NaN  39.3   NaN   NaN   NaN  \n",
       "14  ...  47.2   NaN  48.7   NaN  48.7   NaN  46.3   NaN  45.4   NaN  \n",
       "15  ...   NaN   NaN   NaN   NaN   NaN   NaN   NaN   NaN  35.1   NaN  \n",
       "16  ...  25.7  25.3  25.7  26.4  26.8  27.5  28.5  27.0  27.6   NaN  \n",
       "17  ...  29.8  30.9   NaN  30.7   NaN  32.6   NaN   NaN  31.6   NaN  \n",
       "18  ...  45.5  44.7  44.4  43.9  43.1  43.4  43.6  43.3  42.4  41.5  \n",
       "19  ...   NaN   NaN  46.5   NaN   NaN  44.6   NaN   NaN  42.3   NaN  \n",
       "20  ...  51.0  52.3  47.6  47.9  50.7  47.6  47.9  48.5  46.0  45.7  \n",
       "21  ...  40.0  40.9  40.9  40.7  41.5  41.2  41.1  41.2  41.4   NaN  \n",
       "22  ...  63.4   NaN   NaN   NaN  63.0   NaN   NaN   NaN   NaN   NaN  \n",
       "\n",
       "[23 rows x 22 columns]"
      ]
     },
     "execution_count": 24,
     "metadata": {},
     "output_type": "execute_result"
    }
   ],
   "source": [
    "gini_df"
   ]
  },
  {
   "cell_type": "code",
   "execution_count": 26,
   "id": "228d1feb",
   "metadata": {},
   "outputs": [],
   "source": [
    "gini_df_adjusted = gini_df.copy()"
   ]
  },
  {
   "cell_type": "code",
   "execution_count": 28,
   "id": "7183c413",
   "metadata": {},
   "outputs": [
    {
     "name": "stderr",
     "output_type": "stream",
     "text": [
      "C:\\Users\\Ansuman\\AppData\\Local\\Temp\\ipykernel_1888\\647539021.py:1: FutureWarning: Dropping of nuisance columns in DataFrame reductions (with 'numeric_only=None') is deprecated; in a future version this will raise TypeError.  Select only valid columns before calling the reduction.\n",
      "  m = gini_df_adjusted.mean(axis=1)\n"
     ]
    }
   ],
   "source": [
    "m = gini_df_adjusted.mean(axis=1)\n",
    "for i, col in enumerate(gini_df):\n",
    "    gini_df_adjusted.iloc[:, i] = gini_df_adjusted.iloc[:, i].fillna(m)\n"
   ]
  },
  {
   "cell_type": "code",
   "execution_count": 29,
   "id": "eea860ce",
   "metadata": {},
   "outputs": [
    {
     "data": {
      "text/html": [
       "<div>\n",
       "<style scoped>\n",
       "    .dataframe tbody tr th:only-of-type {\n",
       "        vertical-align: middle;\n",
       "    }\n",
       "\n",
       "    .dataframe tbody tr th {\n",
       "        vertical-align: top;\n",
       "    }\n",
       "\n",
       "    .dataframe thead th {\n",
       "        text-align: right;\n",
       "    }\n",
       "</style>\n",
       "<table border=\"1\" class=\"dataframe\">\n",
       "  <thead>\n",
       "    <tr style=\"text-align: right;\">\n",
       "      <th></th>\n",
       "      <th>ISO</th>\n",
       "      <th>Country</th>\n",
       "      <th>2000</th>\n",
       "      <th>2001</th>\n",
       "      <th>2002</th>\n",
       "      <th>2003</th>\n",
       "      <th>2004</th>\n",
       "      <th>2005</th>\n",
       "      <th>2006</th>\n",
       "      <th>2007</th>\n",
       "      <th>...</th>\n",
       "      <th>2010</th>\n",
       "      <th>2011</th>\n",
       "      <th>2012</th>\n",
       "      <th>2013</th>\n",
       "      <th>2014</th>\n",
       "      <th>2015</th>\n",
       "      <th>2016</th>\n",
       "      <th>2017</th>\n",
       "      <th>2018</th>\n",
       "      <th>2019</th>\n",
       "    </tr>\n",
       "  </thead>\n",
       "  <tbody>\n",
       "    <tr>\n",
       "      <th>0</th>\n",
       "      <td>BRA</td>\n",
       "      <td>Brazil</td>\n",
       "      <td>54.566667</td>\n",
       "      <td>58.400000</td>\n",
       "      <td>58.100000</td>\n",
       "      <td>57.600000</td>\n",
       "      <td>56.500000</td>\n",
       "      <td>56.300000</td>\n",
       "      <td>55.600000</td>\n",
       "      <td>54.900000</td>\n",
       "      <td>...</td>\n",
       "      <td>54.566667</td>\n",
       "      <td>52.900000</td>\n",
       "      <td>53.500000</td>\n",
       "      <td>52.800000</td>\n",
       "      <td>52.100000</td>\n",
       "      <td>51.900000</td>\n",
       "      <td>53.300000</td>\n",
       "      <td>53.300000</td>\n",
       "      <td>53.900000</td>\n",
       "      <td>53.400000</td>\n",
       "    </tr>\n",
       "    <tr>\n",
       "      <th>1</th>\n",
       "      <td>CAN</td>\n",
       "      <td>Canada</td>\n",
       "      <td>33.300000</td>\n",
       "      <td>33.460000</td>\n",
       "      <td>33.460000</td>\n",
       "      <td>33.460000</td>\n",
       "      <td>33.700000</td>\n",
       "      <td>33.460000</td>\n",
       "      <td>33.460000</td>\n",
       "      <td>33.800000</td>\n",
       "      <td>...</td>\n",
       "      <td>33.600000</td>\n",
       "      <td>33.460000</td>\n",
       "      <td>33.500000</td>\n",
       "      <td>33.800000</td>\n",
       "      <td>33.200000</td>\n",
       "      <td>33.700000</td>\n",
       "      <td>32.700000</td>\n",
       "      <td>33.300000</td>\n",
       "      <td>33.460000</td>\n",
       "      <td>33.460000</td>\n",
       "    </tr>\n",
       "    <tr>\n",
       "      <th>2</th>\n",
       "      <td>CHL</td>\n",
       "      <td>Chile</td>\n",
       "      <td>52.800000</td>\n",
       "      <td>47.400000</td>\n",
       "      <td>47.400000</td>\n",
       "      <td>51.500000</td>\n",
       "      <td>47.400000</td>\n",
       "      <td>47.400000</td>\n",
       "      <td>47.300000</td>\n",
       "      <td>47.400000</td>\n",
       "      <td>...</td>\n",
       "      <td>47.400000</td>\n",
       "      <td>46.000000</td>\n",
       "      <td>47.400000</td>\n",
       "      <td>45.800000</td>\n",
       "      <td>47.400000</td>\n",
       "      <td>44.400000</td>\n",
       "      <td>47.400000</td>\n",
       "      <td>44.400000</td>\n",
       "      <td>47.400000</td>\n",
       "      <td>47.400000</td>\n",
       "    </tr>\n",
       "    <tr>\n",
       "      <th>3</th>\n",
       "      <td>CHN</td>\n",
       "      <td>China</td>\n",
       "      <td>41.020000</td>\n",
       "      <td>41.020000</td>\n",
       "      <td>42.000000</td>\n",
       "      <td>41.020000</td>\n",
       "      <td>41.020000</td>\n",
       "      <td>40.900000</td>\n",
       "      <td>41.020000</td>\n",
       "      <td>41.020000</td>\n",
       "      <td>...</td>\n",
       "      <td>43.700000</td>\n",
       "      <td>42.400000</td>\n",
       "      <td>42.200000</td>\n",
       "      <td>39.700000</td>\n",
       "      <td>39.200000</td>\n",
       "      <td>38.600000</td>\n",
       "      <td>38.500000</td>\n",
       "      <td>41.020000</td>\n",
       "      <td>41.020000</td>\n",
       "      <td>41.020000</td>\n",
       "    </tr>\n",
       "    <tr>\n",
       "      <th>4</th>\n",
       "      <td>COD</td>\n",
       "      <td>Congo, Dem. Rep.</td>\n",
       "      <td>42.150000</td>\n",
       "      <td>42.150000</td>\n",
       "      <td>42.150000</td>\n",
       "      <td>42.150000</td>\n",
       "      <td>42.200000</td>\n",
       "      <td>42.150000</td>\n",
       "      <td>42.150000</td>\n",
       "      <td>42.150000</td>\n",
       "      <td>...</td>\n",
       "      <td>42.150000</td>\n",
       "      <td>42.150000</td>\n",
       "      <td>42.100000</td>\n",
       "      <td>42.150000</td>\n",
       "      <td>42.150000</td>\n",
       "      <td>42.150000</td>\n",
       "      <td>42.150000</td>\n",
       "      <td>42.150000</td>\n",
       "      <td>42.150000</td>\n",
       "      <td>42.150000</td>\n",
       "    </tr>\n",
       "    <tr>\n",
       "      <th>5</th>\n",
       "      <td>DEU</td>\n",
       "      <td>Germany</td>\n",
       "      <td>28.800000</td>\n",
       "      <td>30.300000</td>\n",
       "      <td>29.900000</td>\n",
       "      <td>30.000000</td>\n",
       "      <td>30.400000</td>\n",
       "      <td>32.100000</td>\n",
       "      <td>31.300000</td>\n",
       "      <td>31.300000</td>\n",
       "      <td>...</td>\n",
       "      <td>30.200000</td>\n",
       "      <td>30.500000</td>\n",
       "      <td>30.900000</td>\n",
       "      <td>31.100000</td>\n",
       "      <td>30.900000</td>\n",
       "      <td>31.700000</td>\n",
       "      <td>31.900000</td>\n",
       "      <td>30.758824</td>\n",
       "      <td>30.758824</td>\n",
       "      <td>30.758824</td>\n",
       "    </tr>\n",
       "    <tr>\n",
       "      <th>6</th>\n",
       "      <td>EGY</td>\n",
       "      <td>Egypt, Arab Rep.</td>\n",
       "      <td>30.783333</td>\n",
       "      <td>30.783333</td>\n",
       "      <td>30.783333</td>\n",
       "      <td>30.783333</td>\n",
       "      <td>31.800000</td>\n",
       "      <td>30.783333</td>\n",
       "      <td>30.783333</td>\n",
       "      <td>30.783333</td>\n",
       "      <td>...</td>\n",
       "      <td>30.200000</td>\n",
       "      <td>30.783333</td>\n",
       "      <td>28.300000</td>\n",
       "      <td>30.783333</td>\n",
       "      <td>30.783333</td>\n",
       "      <td>31.800000</td>\n",
       "      <td>30.783333</td>\n",
       "      <td>31.500000</td>\n",
       "      <td>30.783333</td>\n",
       "      <td>30.783333</td>\n",
       "    </tr>\n",
       "    <tr>\n",
       "      <th>7</th>\n",
       "      <td>FRA</td>\n",
       "      <td>France</td>\n",
       "      <td>31.100000</td>\n",
       "      <td>32.011765</td>\n",
       "      <td>32.011765</td>\n",
       "      <td>31.400000</td>\n",
       "      <td>30.600000</td>\n",
       "      <td>29.800000</td>\n",
       "      <td>29.700000</td>\n",
       "      <td>32.400000</td>\n",
       "      <td>...</td>\n",
       "      <td>33.700000</td>\n",
       "      <td>33.300000</td>\n",
       "      <td>33.100000</td>\n",
       "      <td>32.500000</td>\n",
       "      <td>32.300000</td>\n",
       "      <td>32.700000</td>\n",
       "      <td>31.900000</td>\n",
       "      <td>31.600000</td>\n",
       "      <td>32.400000</td>\n",
       "      <td>32.011765</td>\n",
       "    </tr>\n",
       "    <tr>\n",
       "      <th>8</th>\n",
       "      <td>GBR</td>\n",
       "      <td>United Kingdom</td>\n",
       "      <td>38.400000</td>\n",
       "      <td>37.300000</td>\n",
       "      <td>35.100000</td>\n",
       "      <td>35.100000</td>\n",
       "      <td>36.000000</td>\n",
       "      <td>34.300000</td>\n",
       "      <td>34.600000</td>\n",
       "      <td>35.700000</td>\n",
       "      <td>...</td>\n",
       "      <td>34.400000</td>\n",
       "      <td>33.200000</td>\n",
       "      <td>32.300000</td>\n",
       "      <td>33.200000</td>\n",
       "      <td>34.000000</td>\n",
       "      <td>33.200000</td>\n",
       "      <td>34.800000</td>\n",
       "      <td>35.100000</td>\n",
       "      <td>34.727778</td>\n",
       "      <td>34.727778</td>\n",
       "    </tr>\n",
       "    <tr>\n",
       "      <th>9</th>\n",
       "      <td>IND</td>\n",
       "      <td>India</td>\n",
       "      <td>35.166667</td>\n",
       "      <td>35.166667</td>\n",
       "      <td>35.166667</td>\n",
       "      <td>35.166667</td>\n",
       "      <td>34.400000</td>\n",
       "      <td>35.166667</td>\n",
       "      <td>35.166667</td>\n",
       "      <td>35.166667</td>\n",
       "      <td>...</td>\n",
       "      <td>35.166667</td>\n",
       "      <td>35.700000</td>\n",
       "      <td>35.166667</td>\n",
       "      <td>35.166667</td>\n",
       "      <td>35.166667</td>\n",
       "      <td>35.166667</td>\n",
       "      <td>35.166667</td>\n",
       "      <td>35.166667</td>\n",
       "      <td>35.166667</td>\n",
       "      <td>35.166667</td>\n",
       "    </tr>\n",
       "    <tr>\n",
       "      <th>10</th>\n",
       "      <td>ITA</td>\n",
       "      <td>Italy</td>\n",
       "      <td>35.300000</td>\n",
       "      <td>34.600000</td>\n",
       "      <td>34.600000</td>\n",
       "      <td>34.900000</td>\n",
       "      <td>34.300000</td>\n",
       "      <td>33.800000</td>\n",
       "      <td>33.700000</td>\n",
       "      <td>32.900000</td>\n",
       "      <td>...</td>\n",
       "      <td>34.700000</td>\n",
       "      <td>35.100000</td>\n",
       "      <td>35.200000</td>\n",
       "      <td>34.900000</td>\n",
       "      <td>34.700000</td>\n",
       "      <td>35.400000</td>\n",
       "      <td>35.200000</td>\n",
       "      <td>35.900000</td>\n",
       "      <td>34.600000</td>\n",
       "      <td>34.600000</td>\n",
       "    </tr>\n",
       "    <tr>\n",
       "      <th>11</th>\n",
       "      <td>KAZ</td>\n",
       "      <td>Kazakhstan</td>\n",
       "      <td>30.038889</td>\n",
       "      <td>36.000000</td>\n",
       "      <td>34.800000</td>\n",
       "      <td>33.700000</td>\n",
       "      <td>31.800000</td>\n",
       "      <td>39.800000</td>\n",
       "      <td>30.200000</td>\n",
       "      <td>30.100000</td>\n",
       "      <td>...</td>\n",
       "      <td>28.000000</td>\n",
       "      <td>28.000000</td>\n",
       "      <td>28.200000</td>\n",
       "      <td>27.100000</td>\n",
       "      <td>27.000000</td>\n",
       "      <td>26.800000</td>\n",
       "      <td>27.200000</td>\n",
       "      <td>27.500000</td>\n",
       "      <td>27.800000</td>\n",
       "      <td>30.038889</td>\n",
       "    </tr>\n",
       "    <tr>\n",
       "      <th>12</th>\n",
       "      <td>KEN</td>\n",
       "      <td>Kenya</td>\n",
       "      <td>43.650000</td>\n",
       "      <td>43.650000</td>\n",
       "      <td>43.650000</td>\n",
       "      <td>43.650000</td>\n",
       "      <td>43.650000</td>\n",
       "      <td>46.500000</td>\n",
       "      <td>43.650000</td>\n",
       "      <td>43.650000</td>\n",
       "      <td>...</td>\n",
       "      <td>43.650000</td>\n",
       "      <td>43.650000</td>\n",
       "      <td>43.650000</td>\n",
       "      <td>43.650000</td>\n",
       "      <td>43.650000</td>\n",
       "      <td>40.800000</td>\n",
       "      <td>43.650000</td>\n",
       "      <td>43.650000</td>\n",
       "      <td>43.650000</td>\n",
       "      <td>43.650000</td>\n",
       "    </tr>\n",
       "    <tr>\n",
       "      <th>13</th>\n",
       "      <td>LKA</td>\n",
       "      <td>Sri Lanka</td>\n",
       "      <td>38.800000</td>\n",
       "      <td>38.800000</td>\n",
       "      <td>40.200000</td>\n",
       "      <td>38.800000</td>\n",
       "      <td>38.800000</td>\n",
       "      <td>38.800000</td>\n",
       "      <td>39.700000</td>\n",
       "      <td>38.800000</td>\n",
       "      <td>...</td>\n",
       "      <td>38.800000</td>\n",
       "      <td>38.800000</td>\n",
       "      <td>38.700000</td>\n",
       "      <td>38.800000</td>\n",
       "      <td>38.800000</td>\n",
       "      <td>38.800000</td>\n",
       "      <td>39.300000</td>\n",
       "      <td>38.800000</td>\n",
       "      <td>38.800000</td>\n",
       "      <td>38.800000</td>\n",
       "    </tr>\n",
       "    <tr>\n",
       "      <th>14</th>\n",
       "      <td>MEX</td>\n",
       "      <td>Mexico</td>\n",
       "      <td>52.600000</td>\n",
       "      <td>48.900000</td>\n",
       "      <td>50.100000</td>\n",
       "      <td>48.900000</td>\n",
       "      <td>50.000000</td>\n",
       "      <td>50.100000</td>\n",
       "      <td>48.900000</td>\n",
       "      <td>48.900000</td>\n",
       "      <td>...</td>\n",
       "      <td>47.200000</td>\n",
       "      <td>48.900000</td>\n",
       "      <td>48.700000</td>\n",
       "      <td>48.900000</td>\n",
       "      <td>48.700000</td>\n",
       "      <td>48.900000</td>\n",
       "      <td>46.300000</td>\n",
       "      <td>48.900000</td>\n",
       "      <td>45.400000</td>\n",
       "      <td>48.900000</td>\n",
       "    </tr>\n",
       "    <tr>\n",
       "      <th>15</th>\n",
       "      <td>NGA</td>\n",
       "      <td>Nigeria</td>\n",
       "      <td>39.400000</td>\n",
       "      <td>39.400000</td>\n",
       "      <td>39.400000</td>\n",
       "      <td>40.100000</td>\n",
       "      <td>39.400000</td>\n",
       "      <td>39.400000</td>\n",
       "      <td>39.400000</td>\n",
       "      <td>39.400000</td>\n",
       "      <td>...</td>\n",
       "      <td>39.400000</td>\n",
       "      <td>39.400000</td>\n",
       "      <td>39.400000</td>\n",
       "      <td>39.400000</td>\n",
       "      <td>39.400000</td>\n",
       "      <td>39.400000</td>\n",
       "      <td>39.400000</td>\n",
       "      <td>39.400000</td>\n",
       "      <td>35.100000</td>\n",
       "      <td>39.400000</td>\n",
       "    </tr>\n",
       "    <tr>\n",
       "      <th>16</th>\n",
       "      <td>NOR</td>\n",
       "      <td>Norway</td>\n",
       "      <td>27.400000</td>\n",
       "      <td>27.317647</td>\n",
       "      <td>27.317647</td>\n",
       "      <td>27.600000</td>\n",
       "      <td>31.600000</td>\n",
       "      <td>30.600000</td>\n",
       "      <td>26.400000</td>\n",
       "      <td>27.100000</td>\n",
       "      <td>...</td>\n",
       "      <td>25.700000</td>\n",
       "      <td>25.300000</td>\n",
       "      <td>25.700000</td>\n",
       "      <td>26.400000</td>\n",
       "      <td>26.800000</td>\n",
       "      <td>27.500000</td>\n",
       "      <td>28.500000</td>\n",
       "      <td>27.000000</td>\n",
       "      <td>27.600000</td>\n",
       "      <td>27.317647</td>\n",
       "    </tr>\n",
       "    <tr>\n",
       "      <th>17</th>\n",
       "      <td>PAK</td>\n",
       "      <td>Pakistan</td>\n",
       "      <td>31.422222</td>\n",
       "      <td>30.400000</td>\n",
       "      <td>31.422222</td>\n",
       "      <td>31.422222</td>\n",
       "      <td>32.500000</td>\n",
       "      <td>32.700000</td>\n",
       "      <td>31.422222</td>\n",
       "      <td>31.600000</td>\n",
       "      <td>...</td>\n",
       "      <td>29.800000</td>\n",
       "      <td>30.900000</td>\n",
       "      <td>31.422222</td>\n",
       "      <td>30.700000</td>\n",
       "      <td>31.422222</td>\n",
       "      <td>32.600000</td>\n",
       "      <td>31.422222</td>\n",
       "      <td>31.422222</td>\n",
       "      <td>31.600000</td>\n",
       "      <td>31.422222</td>\n",
       "    </tr>\n",
       "    <tr>\n",
       "      <th>18</th>\n",
       "      <td>PER</td>\n",
       "      <td>Peru</td>\n",
       "      <td>49.100000</td>\n",
       "      <td>51.300000</td>\n",
       "      <td>53.600000</td>\n",
       "      <td>53.100000</td>\n",
       "      <td>49.900000</td>\n",
       "      <td>50.400000</td>\n",
       "      <td>50.300000</td>\n",
       "      <td>50.000000</td>\n",
       "      <td>...</td>\n",
       "      <td>45.500000</td>\n",
       "      <td>44.700000</td>\n",
       "      <td>44.400000</td>\n",
       "      <td>43.900000</td>\n",
       "      <td>43.100000</td>\n",
       "      <td>43.400000</td>\n",
       "      <td>43.600000</td>\n",
       "      <td>43.300000</td>\n",
       "      <td>42.400000</td>\n",
       "      <td>41.500000</td>\n",
       "    </tr>\n",
       "    <tr>\n",
       "      <th>19</th>\n",
       "      <td>PHL</td>\n",
       "      <td>Philippines</td>\n",
       "      <td>47.700000</td>\n",
       "      <td>45.885714</td>\n",
       "      <td>45.885714</td>\n",
       "      <td>46.600000</td>\n",
       "      <td>45.885714</td>\n",
       "      <td>45.885714</td>\n",
       "      <td>47.200000</td>\n",
       "      <td>45.885714</td>\n",
       "      <td>...</td>\n",
       "      <td>45.885714</td>\n",
       "      <td>45.885714</td>\n",
       "      <td>46.500000</td>\n",
       "      <td>45.885714</td>\n",
       "      <td>45.885714</td>\n",
       "      <td>44.600000</td>\n",
       "      <td>45.885714</td>\n",
       "      <td>45.885714</td>\n",
       "      <td>42.300000</td>\n",
       "      <td>45.885714</td>\n",
       "    </tr>\n",
       "    <tr>\n",
       "      <th>20</th>\n",
       "      <td>PRY</td>\n",
       "      <td>Paraguay</td>\n",
       "      <td>50.605263</td>\n",
       "      <td>54.600000</td>\n",
       "      <td>57.300000</td>\n",
       "      <td>54.900000</td>\n",
       "      <td>52.300000</td>\n",
       "      <td>51.400000</td>\n",
       "      <td>53.000000</td>\n",
       "      <td>53.000000</td>\n",
       "      <td>...</td>\n",
       "      <td>51.000000</td>\n",
       "      <td>52.300000</td>\n",
       "      <td>47.600000</td>\n",
       "      <td>47.900000</td>\n",
       "      <td>50.700000</td>\n",
       "      <td>47.600000</td>\n",
       "      <td>47.900000</td>\n",
       "      <td>48.500000</td>\n",
       "      <td>46.000000</td>\n",
       "      <td>45.700000</td>\n",
       "    </tr>\n",
       "    <tr>\n",
       "      <th>21</th>\n",
       "      <td>USA</td>\n",
       "      <td>United States</td>\n",
       "      <td>40.100000</td>\n",
       "      <td>40.600000</td>\n",
       "      <td>40.400000</td>\n",
       "      <td>40.800000</td>\n",
       "      <td>40.300000</td>\n",
       "      <td>41.000000</td>\n",
       "      <td>41.400000</td>\n",
       "      <td>40.800000</td>\n",
       "      <td>...</td>\n",
       "      <td>40.000000</td>\n",
       "      <td>40.900000</td>\n",
       "      <td>40.900000</td>\n",
       "      <td>40.700000</td>\n",
       "      <td>41.500000</td>\n",
       "      <td>41.200000</td>\n",
       "      <td>41.100000</td>\n",
       "      <td>41.200000</td>\n",
       "      <td>41.400000</td>\n",
       "      <td>40.826316</td>\n",
       "    </tr>\n",
       "    <tr>\n",
       "      <th>22</th>\n",
       "      <td>ZAF</td>\n",
       "      <td>South Africa</td>\n",
       "      <td>57.800000</td>\n",
       "      <td>62.400000</td>\n",
       "      <td>62.400000</td>\n",
       "      <td>62.400000</td>\n",
       "      <td>62.400000</td>\n",
       "      <td>64.800000</td>\n",
       "      <td>62.400000</td>\n",
       "      <td>62.400000</td>\n",
       "      <td>...</td>\n",
       "      <td>63.400000</td>\n",
       "      <td>62.400000</td>\n",
       "      <td>62.400000</td>\n",
       "      <td>62.400000</td>\n",
       "      <td>63.000000</td>\n",
       "      <td>62.400000</td>\n",
       "      <td>62.400000</td>\n",
       "      <td>62.400000</td>\n",
       "      <td>62.400000</td>\n",
       "      <td>62.400000</td>\n",
       "    </tr>\n",
       "  </tbody>\n",
       "</table>\n",
       "<p>23 rows × 22 columns</p>\n",
       "</div>"
      ],
      "text/plain": [
       "    ISO           Country       2000       2001       2002       2003  \\\n",
       "0   BRA            Brazil  54.566667  58.400000  58.100000  57.600000   \n",
       "1   CAN            Canada  33.300000  33.460000  33.460000  33.460000   \n",
       "2   CHL             Chile  52.800000  47.400000  47.400000  51.500000   \n",
       "3   CHN             China  41.020000  41.020000  42.000000  41.020000   \n",
       "4   COD  Congo, Dem. Rep.  42.150000  42.150000  42.150000  42.150000   \n",
       "5   DEU           Germany  28.800000  30.300000  29.900000  30.000000   \n",
       "6   EGY  Egypt, Arab Rep.  30.783333  30.783333  30.783333  30.783333   \n",
       "7   FRA            France  31.100000  32.011765  32.011765  31.400000   \n",
       "8   GBR    United Kingdom  38.400000  37.300000  35.100000  35.100000   \n",
       "9   IND             India  35.166667  35.166667  35.166667  35.166667   \n",
       "10  ITA             Italy  35.300000  34.600000  34.600000  34.900000   \n",
       "11  KAZ        Kazakhstan  30.038889  36.000000  34.800000  33.700000   \n",
       "12  KEN             Kenya  43.650000  43.650000  43.650000  43.650000   \n",
       "13  LKA         Sri Lanka  38.800000  38.800000  40.200000  38.800000   \n",
       "14  MEX            Mexico  52.600000  48.900000  50.100000  48.900000   \n",
       "15  NGA           Nigeria  39.400000  39.400000  39.400000  40.100000   \n",
       "16  NOR            Norway  27.400000  27.317647  27.317647  27.600000   \n",
       "17  PAK          Pakistan  31.422222  30.400000  31.422222  31.422222   \n",
       "18  PER              Peru  49.100000  51.300000  53.600000  53.100000   \n",
       "19  PHL       Philippines  47.700000  45.885714  45.885714  46.600000   \n",
       "20  PRY          Paraguay  50.605263  54.600000  57.300000  54.900000   \n",
       "21  USA     United States  40.100000  40.600000  40.400000  40.800000   \n",
       "22  ZAF      South Africa  57.800000  62.400000  62.400000  62.400000   \n",
       "\n",
       "         2004       2005       2006       2007  ...       2010       2011  \\\n",
       "0   56.500000  56.300000  55.600000  54.900000  ...  54.566667  52.900000   \n",
       "1   33.700000  33.460000  33.460000  33.800000  ...  33.600000  33.460000   \n",
       "2   47.400000  47.400000  47.300000  47.400000  ...  47.400000  46.000000   \n",
       "3   41.020000  40.900000  41.020000  41.020000  ...  43.700000  42.400000   \n",
       "4   42.200000  42.150000  42.150000  42.150000  ...  42.150000  42.150000   \n",
       "5   30.400000  32.100000  31.300000  31.300000  ...  30.200000  30.500000   \n",
       "6   31.800000  30.783333  30.783333  30.783333  ...  30.200000  30.783333   \n",
       "7   30.600000  29.800000  29.700000  32.400000  ...  33.700000  33.300000   \n",
       "8   36.000000  34.300000  34.600000  35.700000  ...  34.400000  33.200000   \n",
       "9   34.400000  35.166667  35.166667  35.166667  ...  35.166667  35.700000   \n",
       "10  34.300000  33.800000  33.700000  32.900000  ...  34.700000  35.100000   \n",
       "11  31.800000  39.800000  30.200000  30.100000  ...  28.000000  28.000000   \n",
       "12  43.650000  46.500000  43.650000  43.650000  ...  43.650000  43.650000   \n",
       "13  38.800000  38.800000  39.700000  38.800000  ...  38.800000  38.800000   \n",
       "14  50.000000  50.100000  48.900000  48.900000  ...  47.200000  48.900000   \n",
       "15  39.400000  39.400000  39.400000  39.400000  ...  39.400000  39.400000   \n",
       "16  31.600000  30.600000  26.400000  27.100000  ...  25.700000  25.300000   \n",
       "17  32.500000  32.700000  31.422222  31.600000  ...  29.800000  30.900000   \n",
       "18  49.900000  50.400000  50.300000  50.000000  ...  45.500000  44.700000   \n",
       "19  45.885714  45.885714  47.200000  45.885714  ...  45.885714  45.885714   \n",
       "20  52.300000  51.400000  53.000000  53.000000  ...  51.000000  52.300000   \n",
       "21  40.300000  41.000000  41.400000  40.800000  ...  40.000000  40.900000   \n",
       "22  62.400000  64.800000  62.400000  62.400000  ...  63.400000  62.400000   \n",
       "\n",
       "         2012       2013       2014       2015       2016       2017  \\\n",
       "0   53.500000  52.800000  52.100000  51.900000  53.300000  53.300000   \n",
       "1   33.500000  33.800000  33.200000  33.700000  32.700000  33.300000   \n",
       "2   47.400000  45.800000  47.400000  44.400000  47.400000  44.400000   \n",
       "3   42.200000  39.700000  39.200000  38.600000  38.500000  41.020000   \n",
       "4   42.100000  42.150000  42.150000  42.150000  42.150000  42.150000   \n",
       "5   30.900000  31.100000  30.900000  31.700000  31.900000  30.758824   \n",
       "6   28.300000  30.783333  30.783333  31.800000  30.783333  31.500000   \n",
       "7   33.100000  32.500000  32.300000  32.700000  31.900000  31.600000   \n",
       "8   32.300000  33.200000  34.000000  33.200000  34.800000  35.100000   \n",
       "9   35.166667  35.166667  35.166667  35.166667  35.166667  35.166667   \n",
       "10  35.200000  34.900000  34.700000  35.400000  35.200000  35.900000   \n",
       "11  28.200000  27.100000  27.000000  26.800000  27.200000  27.500000   \n",
       "12  43.650000  43.650000  43.650000  40.800000  43.650000  43.650000   \n",
       "13  38.700000  38.800000  38.800000  38.800000  39.300000  38.800000   \n",
       "14  48.700000  48.900000  48.700000  48.900000  46.300000  48.900000   \n",
       "15  39.400000  39.400000  39.400000  39.400000  39.400000  39.400000   \n",
       "16  25.700000  26.400000  26.800000  27.500000  28.500000  27.000000   \n",
       "17  31.422222  30.700000  31.422222  32.600000  31.422222  31.422222   \n",
       "18  44.400000  43.900000  43.100000  43.400000  43.600000  43.300000   \n",
       "19  46.500000  45.885714  45.885714  44.600000  45.885714  45.885714   \n",
       "20  47.600000  47.900000  50.700000  47.600000  47.900000  48.500000   \n",
       "21  40.900000  40.700000  41.500000  41.200000  41.100000  41.200000   \n",
       "22  62.400000  62.400000  63.000000  62.400000  62.400000  62.400000   \n",
       "\n",
       "         2018       2019  \n",
       "0   53.900000  53.400000  \n",
       "1   33.460000  33.460000  \n",
       "2   47.400000  47.400000  \n",
       "3   41.020000  41.020000  \n",
       "4   42.150000  42.150000  \n",
       "5   30.758824  30.758824  \n",
       "6   30.783333  30.783333  \n",
       "7   32.400000  32.011765  \n",
       "8   34.727778  34.727778  \n",
       "9   35.166667  35.166667  \n",
       "10  34.600000  34.600000  \n",
       "11  27.800000  30.038889  \n",
       "12  43.650000  43.650000  \n",
       "13  38.800000  38.800000  \n",
       "14  45.400000  48.900000  \n",
       "15  35.100000  39.400000  \n",
       "16  27.600000  27.317647  \n",
       "17  31.600000  31.422222  \n",
       "18  42.400000  41.500000  \n",
       "19  42.300000  45.885714  \n",
       "20  46.000000  45.700000  \n",
       "21  41.400000  40.826316  \n",
       "22  62.400000  62.400000  \n",
       "\n",
       "[23 rows x 22 columns]"
      ]
     },
     "execution_count": 29,
     "metadata": {},
     "output_type": "execute_result"
    }
   ],
   "source": [
    "gini_df_adjusted"
   ]
  },
  {
   "cell_type": "code",
   "execution_count": 38,
   "id": "7ed800fb",
   "metadata": {
    "scrolled": true
   },
   "outputs": [
    {
     "data": {
      "text/plain": [
       "array([53.4       , 33.46      , 47.4       , 41.02      , 42.15      ,\n",
       "       30.75882353, 30.78333333, 32.01176471, 34.72777778, 35.16666667,\n",
       "       34.6       , 30.03888889, 43.65      , 38.8       , 48.9       ,\n",
       "       39.4       , 27.31764706, 31.42222222, 41.5       , 45.88571429,\n",
       "       45.7       , 40.82631579, 62.4       ])"
      ]
     },
     "execution_count": 38,
     "metadata": {},
     "output_type": "execute_result"
    }
   ],
   "source": [
    "gini_2019 = gini_df_adjusted[\"2019\"]\n",
    "gini_2019.to_numpy()"
   ]
  },
  {
   "cell_type": "code",
   "execution_count": 44,
   "id": "6d509df7",
   "metadata": {},
   "outputs": [
    {
     "data": {
      "text/plain": [
       "23"
      ]
     },
     "execution_count": 44,
     "metadata": {},
     "output_type": "execute_result"
    }
   ],
   "source": [
    "gini_country.count()"
   ]
  },
  {
   "cell_type": "code",
   "execution_count": 61,
   "id": "d1af79a4",
   "metadata": {
    "scrolled": true
   },
   "outputs": [
    {
     "data": {
      "text/plain": [
       "array(['BRA', 'CAN', 'CHL', 'CHN', 'COD', 'DEU', 'EGY', 'FRA', 'GBR',\n",
       "       'IND', 'ITA', 'KAZ', 'KEN', 'LKA', 'MEX', 'NGA', 'NOR', 'PAK',\n",
       "       'PER', 'PHL', 'PRY', 'USA', 'ZAF'], dtype=object)"
      ]
     },
     "execution_count": 61,
     "metadata": {},
     "output_type": "execute_result"
    }
   ],
   "source": [
    "gini_country = gini_df_adjusted[\"ISO\"]\n",
    "gini_country.to_numpy()"
   ]
  },
  {
   "cell_type": "markdown",
   "id": "dcd304d4",
   "metadata": {},
   "source": [
    "# Q1 In which countries do the top 1% hold almost all of the countries' wealth?\n",
    "<font size = 3>\n",
    "As per the graph, Brazil and South Africa have Gini-coeff values above 50 thus, indicating high-income inequality.\n",
    "Note:\n",
    " it’s commonly recognized that a Gini index</font><<font size = 3>0.2 corresponds with perfect income equality\n",
    " 20–30 corresponds with relative equality,\n",
    " 30–40 corresponds with a relatively reasonable income gap,\n",
    " 40–50 corresponds with high income disparity and \n",
    "above 50 corresponds with severe income disparity.</font>"
   ]
  },
  {
   "cell_type": "code",
   "execution_count": 94,
   "id": "4e7ae301",
   "metadata": {
    "scrolled": false
   },
   "outputs": [
    {
     "data": {
      "application/vnd.plotly.v1+json": {
       "config": {
        "plotlyServerURL": "https://plot.ly"
       },
       "data": [
        {
         "alignmentgroup": "True",
         "hovertemplate": "Country=%{x}<br>2019=%{y}<extra></extra>",
         "legendgroup": "",
         "marker": {
          "color": "#636efa",
          "pattern": {
           "shape": ""
          }
         },
         "name": "",
         "offsetgroup": "",
         "orientation": "v",
         "showlegend": false,
         "textposition": "auto",
         "texttemplate": "%{y}",
         "type": "bar",
         "x": [
          "Brazil",
          "Canada",
          "Chile",
          "China",
          "Congo, Dem. Rep.",
          "Germany",
          "Egypt, Arab Rep.",
          "France",
          "United Kingdom",
          "India",
          "Italy",
          "Kazakhstan",
          "Kenya",
          "Sri Lanka",
          "Mexico",
          "Nigeria",
          "Norway",
          "Pakistan",
          "Peru",
          "Philippines",
          "Paraguay",
          "United States",
          "South Africa"
         ],
         "xaxis": "x",
         "y": [
          53.4,
          33.459999999999994,
          47.39999999999999,
          41.02,
          42.150000000000006,
          30.758823529411764,
          30.783333333333335,
          32.01176470588236,
          34.72777777777778,
          35.166666666666664,
          34.599999999999994,
          30.038888888888884,
          43.65,
          38.8,
          48.9,
          39.4,
          27.31764705882353,
          31.422222222222224,
          41.5,
          45.88571428571429,
          45.7,
          40.82631578947369,
          62.4
         ],
         "yaxis": "y"
        }
       ],
       "layout": {
        "barmode": "relative",
        "legend": {
         "tracegroupgap": 0
        },
        "margin": {
         "t": 60
        },
        "shapes": [
         {
          "line": {
           "dash": "dash"
          },
          "type": "line",
          "x0": 0,
          "x1": 1,
          "xref": "x domain",
          "y0": 50,
          "y1": 50,
          "yref": "y"
         }
        ],
        "template": {
         "data": {
          "bar": [
           {
            "error_x": {
             "color": "#2a3f5f"
            },
            "error_y": {
             "color": "#2a3f5f"
            },
            "marker": {
             "line": {
              "color": "#E5ECF6",
              "width": 0.5
             },
             "pattern": {
              "fillmode": "overlay",
              "size": 10,
              "solidity": 0.2
             }
            },
            "type": "bar"
           }
          ],
          "barpolar": [
           {
            "marker": {
             "line": {
              "color": "#E5ECF6",
              "width": 0.5
             },
             "pattern": {
              "fillmode": "overlay",
              "size": 10,
              "solidity": 0.2
             }
            },
            "type": "barpolar"
           }
          ],
          "carpet": [
           {
            "aaxis": {
             "endlinecolor": "#2a3f5f",
             "gridcolor": "white",
             "linecolor": "white",
             "minorgridcolor": "white",
             "startlinecolor": "#2a3f5f"
            },
            "baxis": {
             "endlinecolor": "#2a3f5f",
             "gridcolor": "white",
             "linecolor": "white",
             "minorgridcolor": "white",
             "startlinecolor": "#2a3f5f"
            },
            "type": "carpet"
           }
          ],
          "choropleth": [
           {
            "colorbar": {
             "outlinewidth": 0,
             "ticks": ""
            },
            "type": "choropleth"
           }
          ],
          "contour": [
           {
            "colorbar": {
             "outlinewidth": 0,
             "ticks": ""
            },
            "colorscale": [
             [
              0,
              "#0d0887"
             ],
             [
              0.1111111111111111,
              "#46039f"
             ],
             [
              0.2222222222222222,
              "#7201a8"
             ],
             [
              0.3333333333333333,
              "#9c179e"
             ],
             [
              0.4444444444444444,
              "#bd3786"
             ],
             [
              0.5555555555555556,
              "#d8576b"
             ],
             [
              0.6666666666666666,
              "#ed7953"
             ],
             [
              0.7777777777777778,
              "#fb9f3a"
             ],
             [
              0.8888888888888888,
              "#fdca26"
             ],
             [
              1,
              "#f0f921"
             ]
            ],
            "type": "contour"
           }
          ],
          "contourcarpet": [
           {
            "colorbar": {
             "outlinewidth": 0,
             "ticks": ""
            },
            "type": "contourcarpet"
           }
          ],
          "heatmap": [
           {
            "colorbar": {
             "outlinewidth": 0,
             "ticks": ""
            },
            "colorscale": [
             [
              0,
              "#0d0887"
             ],
             [
              0.1111111111111111,
              "#46039f"
             ],
             [
              0.2222222222222222,
              "#7201a8"
             ],
             [
              0.3333333333333333,
              "#9c179e"
             ],
             [
              0.4444444444444444,
              "#bd3786"
             ],
             [
              0.5555555555555556,
              "#d8576b"
             ],
             [
              0.6666666666666666,
              "#ed7953"
             ],
             [
              0.7777777777777778,
              "#fb9f3a"
             ],
             [
              0.8888888888888888,
              "#fdca26"
             ],
             [
              1,
              "#f0f921"
             ]
            ],
            "type": "heatmap"
           }
          ],
          "heatmapgl": [
           {
            "colorbar": {
             "outlinewidth": 0,
             "ticks": ""
            },
            "colorscale": [
             [
              0,
              "#0d0887"
             ],
             [
              0.1111111111111111,
              "#46039f"
             ],
             [
              0.2222222222222222,
              "#7201a8"
             ],
             [
              0.3333333333333333,
              "#9c179e"
             ],
             [
              0.4444444444444444,
              "#bd3786"
             ],
             [
              0.5555555555555556,
              "#d8576b"
             ],
             [
              0.6666666666666666,
              "#ed7953"
             ],
             [
              0.7777777777777778,
              "#fb9f3a"
             ],
             [
              0.8888888888888888,
              "#fdca26"
             ],
             [
              1,
              "#f0f921"
             ]
            ],
            "type": "heatmapgl"
           }
          ],
          "histogram": [
           {
            "marker": {
             "pattern": {
              "fillmode": "overlay",
              "size": 10,
              "solidity": 0.2
             }
            },
            "type": "histogram"
           }
          ],
          "histogram2d": [
           {
            "colorbar": {
             "outlinewidth": 0,
             "ticks": ""
            },
            "colorscale": [
             [
              0,
              "#0d0887"
             ],
             [
              0.1111111111111111,
              "#46039f"
             ],
             [
              0.2222222222222222,
              "#7201a8"
             ],
             [
              0.3333333333333333,
              "#9c179e"
             ],
             [
              0.4444444444444444,
              "#bd3786"
             ],
             [
              0.5555555555555556,
              "#d8576b"
             ],
             [
              0.6666666666666666,
              "#ed7953"
             ],
             [
              0.7777777777777778,
              "#fb9f3a"
             ],
             [
              0.8888888888888888,
              "#fdca26"
             ],
             [
              1,
              "#f0f921"
             ]
            ],
            "type": "histogram2d"
           }
          ],
          "histogram2dcontour": [
           {
            "colorbar": {
             "outlinewidth": 0,
             "ticks": ""
            },
            "colorscale": [
             [
              0,
              "#0d0887"
             ],
             [
              0.1111111111111111,
              "#46039f"
             ],
             [
              0.2222222222222222,
              "#7201a8"
             ],
             [
              0.3333333333333333,
              "#9c179e"
             ],
             [
              0.4444444444444444,
              "#bd3786"
             ],
             [
              0.5555555555555556,
              "#d8576b"
             ],
             [
              0.6666666666666666,
              "#ed7953"
             ],
             [
              0.7777777777777778,
              "#fb9f3a"
             ],
             [
              0.8888888888888888,
              "#fdca26"
             ],
             [
              1,
              "#f0f921"
             ]
            ],
            "type": "histogram2dcontour"
           }
          ],
          "mesh3d": [
           {
            "colorbar": {
             "outlinewidth": 0,
             "ticks": ""
            },
            "type": "mesh3d"
           }
          ],
          "parcoords": [
           {
            "line": {
             "colorbar": {
              "outlinewidth": 0,
              "ticks": ""
             }
            },
            "type": "parcoords"
           }
          ],
          "pie": [
           {
            "automargin": true,
            "type": "pie"
           }
          ],
          "scatter": [
           {
            "fillpattern": {
             "fillmode": "overlay",
             "size": 10,
             "solidity": 0.2
            },
            "type": "scatter"
           }
          ],
          "scatter3d": [
           {
            "line": {
             "colorbar": {
              "outlinewidth": 0,
              "ticks": ""
             }
            },
            "marker": {
             "colorbar": {
              "outlinewidth": 0,
              "ticks": ""
             }
            },
            "type": "scatter3d"
           }
          ],
          "scattercarpet": [
           {
            "marker": {
             "colorbar": {
              "outlinewidth": 0,
              "ticks": ""
             }
            },
            "type": "scattercarpet"
           }
          ],
          "scattergeo": [
           {
            "marker": {
             "colorbar": {
              "outlinewidth": 0,
              "ticks": ""
             }
            },
            "type": "scattergeo"
           }
          ],
          "scattergl": [
           {
            "marker": {
             "colorbar": {
              "outlinewidth": 0,
              "ticks": ""
             }
            },
            "type": "scattergl"
           }
          ],
          "scattermapbox": [
           {
            "marker": {
             "colorbar": {
              "outlinewidth": 0,
              "ticks": ""
             }
            },
            "type": "scattermapbox"
           }
          ],
          "scatterpolar": [
           {
            "marker": {
             "colorbar": {
              "outlinewidth": 0,
              "ticks": ""
             }
            },
            "type": "scatterpolar"
           }
          ],
          "scatterpolargl": [
           {
            "marker": {
             "colorbar": {
              "outlinewidth": 0,
              "ticks": ""
             }
            },
            "type": "scatterpolargl"
           }
          ],
          "scatterternary": [
           {
            "marker": {
             "colorbar": {
              "outlinewidth": 0,
              "ticks": ""
             }
            },
            "type": "scatterternary"
           }
          ],
          "surface": [
           {
            "colorbar": {
             "outlinewidth": 0,
             "ticks": ""
            },
            "colorscale": [
             [
              0,
              "#0d0887"
             ],
             [
              0.1111111111111111,
              "#46039f"
             ],
             [
              0.2222222222222222,
              "#7201a8"
             ],
             [
              0.3333333333333333,
              "#9c179e"
             ],
             [
              0.4444444444444444,
              "#bd3786"
             ],
             [
              0.5555555555555556,
              "#d8576b"
             ],
             [
              0.6666666666666666,
              "#ed7953"
             ],
             [
              0.7777777777777778,
              "#fb9f3a"
             ],
             [
              0.8888888888888888,
              "#fdca26"
             ],
             [
              1,
              "#f0f921"
             ]
            ],
            "type": "surface"
           }
          ],
          "table": [
           {
            "cells": {
             "fill": {
              "color": "#EBF0F8"
             },
             "line": {
              "color": "white"
             }
            },
            "header": {
             "fill": {
              "color": "#C8D4E3"
             },
             "line": {
              "color": "white"
             }
            },
            "type": "table"
           }
          ]
         },
         "layout": {
          "annotationdefaults": {
           "arrowcolor": "#2a3f5f",
           "arrowhead": 0,
           "arrowwidth": 1
          },
          "autotypenumbers": "strict",
          "coloraxis": {
           "colorbar": {
            "outlinewidth": 0,
            "ticks": ""
           }
          },
          "colorscale": {
           "diverging": [
            [
             0,
             "#8e0152"
            ],
            [
             0.1,
             "#c51b7d"
            ],
            [
             0.2,
             "#de77ae"
            ],
            [
             0.3,
             "#f1b6da"
            ],
            [
             0.4,
             "#fde0ef"
            ],
            [
             0.5,
             "#f7f7f7"
            ],
            [
             0.6,
             "#e6f5d0"
            ],
            [
             0.7,
             "#b8e186"
            ],
            [
             0.8,
             "#7fbc41"
            ],
            [
             0.9,
             "#4d9221"
            ],
            [
             1,
             "#276419"
            ]
           ],
           "sequential": [
            [
             0,
             "#0d0887"
            ],
            [
             0.1111111111111111,
             "#46039f"
            ],
            [
             0.2222222222222222,
             "#7201a8"
            ],
            [
             0.3333333333333333,
             "#9c179e"
            ],
            [
             0.4444444444444444,
             "#bd3786"
            ],
            [
             0.5555555555555556,
             "#d8576b"
            ],
            [
             0.6666666666666666,
             "#ed7953"
            ],
            [
             0.7777777777777778,
             "#fb9f3a"
            ],
            [
             0.8888888888888888,
             "#fdca26"
            ],
            [
             1,
             "#f0f921"
            ]
           ],
           "sequentialminus": [
            [
             0,
             "#0d0887"
            ],
            [
             0.1111111111111111,
             "#46039f"
            ],
            [
             0.2222222222222222,
             "#7201a8"
            ],
            [
             0.3333333333333333,
             "#9c179e"
            ],
            [
             0.4444444444444444,
             "#bd3786"
            ],
            [
             0.5555555555555556,
             "#d8576b"
            ],
            [
             0.6666666666666666,
             "#ed7953"
            ],
            [
             0.7777777777777778,
             "#fb9f3a"
            ],
            [
             0.8888888888888888,
             "#fdca26"
            ],
            [
             1,
             "#f0f921"
            ]
           ]
          },
          "colorway": [
           "#636efa",
           "#EF553B",
           "#00cc96",
           "#ab63fa",
           "#FFA15A",
           "#19d3f3",
           "#FF6692",
           "#B6E880",
           "#FF97FF",
           "#FECB52"
          ],
          "font": {
           "color": "#2a3f5f"
          },
          "geo": {
           "bgcolor": "white",
           "lakecolor": "white",
           "landcolor": "#E5ECF6",
           "showlakes": true,
           "showland": true,
           "subunitcolor": "white"
          },
          "hoverlabel": {
           "align": "left"
          },
          "hovermode": "closest",
          "mapbox": {
           "style": "light"
          },
          "paper_bgcolor": "white",
          "plot_bgcolor": "#E5ECF6",
          "polar": {
           "angularaxis": {
            "gridcolor": "white",
            "linecolor": "white",
            "ticks": ""
           },
           "bgcolor": "#E5ECF6",
           "radialaxis": {
            "gridcolor": "white",
            "linecolor": "white",
            "ticks": ""
           }
          },
          "scene": {
           "xaxis": {
            "backgroundcolor": "#E5ECF6",
            "gridcolor": "white",
            "gridwidth": 2,
            "linecolor": "white",
            "showbackground": true,
            "ticks": "",
            "zerolinecolor": "white"
           },
           "yaxis": {
            "backgroundcolor": "#E5ECF6",
            "gridcolor": "white",
            "gridwidth": 2,
            "linecolor": "white",
            "showbackground": true,
            "ticks": "",
            "zerolinecolor": "white"
           },
           "zaxis": {
            "backgroundcolor": "#E5ECF6",
            "gridcolor": "white",
            "gridwidth": 2,
            "linecolor": "white",
            "showbackground": true,
            "ticks": "",
            "zerolinecolor": "white"
           }
          },
          "shapedefaults": {
           "line": {
            "color": "#2a3f5f"
           }
          },
          "ternary": {
           "aaxis": {
            "gridcolor": "white",
            "linecolor": "white",
            "ticks": ""
           },
           "baxis": {
            "gridcolor": "white",
            "linecolor": "white",
            "ticks": ""
           },
           "bgcolor": "#E5ECF6",
           "caxis": {
            "gridcolor": "white",
            "linecolor": "white",
            "ticks": ""
           }
          },
          "title": {
           "x": 0.05
          },
          "xaxis": {
           "automargin": true,
           "gridcolor": "white",
           "linecolor": "white",
           "ticks": "",
           "title": {
            "standoff": 15
           },
           "zerolinecolor": "white",
           "zerolinewidth": 2
          },
          "yaxis": {
           "automargin": true,
           "gridcolor": "white",
           "linecolor": "white",
           "ticks": "",
           "title": {
            "standoff": 15
           },
           "zerolinecolor": "white",
           "zerolinewidth": 2
          }
         }
        },
        "xaxis": {
         "anchor": "y",
         "domain": [
          0,
          1
         ],
         "title": {
          "text": "Country"
         }
        },
        "yaxis": {
         "anchor": "x",
         "domain": [
          0,
          1
         ],
         "title": {
          "text": "2019"
         }
        }
       }
      },
      "text/html": [
       "<div>                            <div id=\"1f0424b9-5bc3-48c8-a012-9a29d3bf26c9\" class=\"plotly-graph-div\" style=\"height:525px; width:100%;\"></div>            <script type=\"text/javascript\">                require([\"plotly\"], function(Plotly) {                    window.PLOTLYENV=window.PLOTLYENV || {};                                    if (document.getElementById(\"1f0424b9-5bc3-48c8-a012-9a29d3bf26c9\")) {                    Plotly.newPlot(                        \"1f0424b9-5bc3-48c8-a012-9a29d3bf26c9\",                        [{\"alignmentgroup\":\"True\",\"hovertemplate\":\"Country=%{x}<br>2019=%{y}<extra></extra>\",\"legendgroup\":\"\",\"marker\":{\"color\":\"#636efa\",\"pattern\":{\"shape\":\"\"}},\"name\":\"\",\"offsetgroup\":\"\",\"orientation\":\"v\",\"showlegend\":false,\"textposition\":\"auto\",\"texttemplate\":\"%{y}\",\"x\":[\"Brazil\",\"Canada\",\"Chile\",\"China\",\"Congo, Dem. Rep.\",\"Germany\",\"Egypt, Arab Rep.\",\"France\",\"United Kingdom\",\"India\",\"Italy\",\"Kazakhstan\",\"Kenya\",\"Sri Lanka\",\"Mexico\",\"Nigeria\",\"Norway\",\"Pakistan\",\"Peru\",\"Philippines\",\"Paraguay\",\"United States\",\"South Africa\"],\"xaxis\":\"x\",\"y\":[53.4,33.459999999999994,47.39999999999999,41.02,42.150000000000006,30.758823529411764,30.783333333333335,32.01176470588236,34.72777777777778,35.166666666666664,34.599999999999994,30.038888888888884,43.65,38.8,48.9,39.4,27.31764705882353,31.422222222222224,41.5,45.88571428571429,45.7,40.82631578947369,62.4],\"yaxis\":\"y\",\"type\":\"bar\"}],                        {\"template\":{\"data\":{\"histogram2dcontour\":[{\"type\":\"histogram2dcontour\",\"colorbar\":{\"outlinewidth\":0,\"ticks\":\"\"},\"colorscale\":[[0.0,\"#0d0887\"],[0.1111111111111111,\"#46039f\"],[0.2222222222222222,\"#7201a8\"],[0.3333333333333333,\"#9c179e\"],[0.4444444444444444,\"#bd3786\"],[0.5555555555555556,\"#d8576b\"],[0.6666666666666666,\"#ed7953\"],[0.7777777777777778,\"#fb9f3a\"],[0.8888888888888888,\"#fdca26\"],[1.0,\"#f0f921\"]]}],\"choropleth\":[{\"type\":\"choropleth\",\"colorbar\":{\"outlinewidth\":0,\"ticks\":\"\"}}],\"histogram2d\":[{\"type\":\"histogram2d\",\"colorbar\":{\"outlinewidth\":0,\"ticks\":\"\"},\"colorscale\":[[0.0,\"#0d0887\"],[0.1111111111111111,\"#46039f\"],[0.2222222222222222,\"#7201a8\"],[0.3333333333333333,\"#9c179e\"],[0.4444444444444444,\"#bd3786\"],[0.5555555555555556,\"#d8576b\"],[0.6666666666666666,\"#ed7953\"],[0.7777777777777778,\"#fb9f3a\"],[0.8888888888888888,\"#fdca26\"],[1.0,\"#f0f921\"]]}],\"heatmap\":[{\"type\":\"heatmap\",\"colorbar\":{\"outlinewidth\":0,\"ticks\":\"\"},\"colorscale\":[[0.0,\"#0d0887\"],[0.1111111111111111,\"#46039f\"],[0.2222222222222222,\"#7201a8\"],[0.3333333333333333,\"#9c179e\"],[0.4444444444444444,\"#bd3786\"],[0.5555555555555556,\"#d8576b\"],[0.6666666666666666,\"#ed7953\"],[0.7777777777777778,\"#fb9f3a\"],[0.8888888888888888,\"#fdca26\"],[1.0,\"#f0f921\"]]}],\"heatmapgl\":[{\"type\":\"heatmapgl\",\"colorbar\":{\"outlinewidth\":0,\"ticks\":\"\"},\"colorscale\":[[0.0,\"#0d0887\"],[0.1111111111111111,\"#46039f\"],[0.2222222222222222,\"#7201a8\"],[0.3333333333333333,\"#9c179e\"],[0.4444444444444444,\"#bd3786\"],[0.5555555555555556,\"#d8576b\"],[0.6666666666666666,\"#ed7953\"],[0.7777777777777778,\"#fb9f3a\"],[0.8888888888888888,\"#fdca26\"],[1.0,\"#f0f921\"]]}],\"contourcarpet\":[{\"type\":\"contourcarpet\",\"colorbar\":{\"outlinewidth\":0,\"ticks\":\"\"}}],\"contour\":[{\"type\":\"contour\",\"colorbar\":{\"outlinewidth\":0,\"ticks\":\"\"},\"colorscale\":[[0.0,\"#0d0887\"],[0.1111111111111111,\"#46039f\"],[0.2222222222222222,\"#7201a8\"],[0.3333333333333333,\"#9c179e\"],[0.4444444444444444,\"#bd3786\"],[0.5555555555555556,\"#d8576b\"],[0.6666666666666666,\"#ed7953\"],[0.7777777777777778,\"#fb9f3a\"],[0.8888888888888888,\"#fdca26\"],[1.0,\"#f0f921\"]]}],\"surface\":[{\"type\":\"surface\",\"colorbar\":{\"outlinewidth\":0,\"ticks\":\"\"},\"colorscale\":[[0.0,\"#0d0887\"],[0.1111111111111111,\"#46039f\"],[0.2222222222222222,\"#7201a8\"],[0.3333333333333333,\"#9c179e\"],[0.4444444444444444,\"#bd3786\"],[0.5555555555555556,\"#d8576b\"],[0.6666666666666666,\"#ed7953\"],[0.7777777777777778,\"#fb9f3a\"],[0.8888888888888888,\"#fdca26\"],[1.0,\"#f0f921\"]]}],\"mesh3d\":[{\"type\":\"mesh3d\",\"colorbar\":{\"outlinewidth\":0,\"ticks\":\"\"}}],\"scatter\":[{\"fillpattern\":{\"fillmode\":\"overlay\",\"size\":10,\"solidity\":0.2},\"type\":\"scatter\"}],\"parcoords\":[{\"type\":\"parcoords\",\"line\":{\"colorbar\":{\"outlinewidth\":0,\"ticks\":\"\"}}}],\"scatterpolargl\":[{\"type\":\"scatterpolargl\",\"marker\":{\"colorbar\":{\"outlinewidth\":0,\"ticks\":\"\"}}}],\"bar\":[{\"error_x\":{\"color\":\"#2a3f5f\"},\"error_y\":{\"color\":\"#2a3f5f\"},\"marker\":{\"line\":{\"color\":\"#E5ECF6\",\"width\":0.5},\"pattern\":{\"fillmode\":\"overlay\",\"size\":10,\"solidity\":0.2}},\"type\":\"bar\"}],\"scattergeo\":[{\"type\":\"scattergeo\",\"marker\":{\"colorbar\":{\"outlinewidth\":0,\"ticks\":\"\"}}}],\"scatterpolar\":[{\"type\":\"scatterpolar\",\"marker\":{\"colorbar\":{\"outlinewidth\":0,\"ticks\":\"\"}}}],\"histogram\":[{\"marker\":{\"pattern\":{\"fillmode\":\"overlay\",\"size\":10,\"solidity\":0.2}},\"type\":\"histogram\"}],\"scattergl\":[{\"type\":\"scattergl\",\"marker\":{\"colorbar\":{\"outlinewidth\":0,\"ticks\":\"\"}}}],\"scatter3d\":[{\"type\":\"scatter3d\",\"line\":{\"colorbar\":{\"outlinewidth\":0,\"ticks\":\"\"}},\"marker\":{\"colorbar\":{\"outlinewidth\":0,\"ticks\":\"\"}}}],\"scattermapbox\":[{\"type\":\"scattermapbox\",\"marker\":{\"colorbar\":{\"outlinewidth\":0,\"ticks\":\"\"}}}],\"scatterternary\":[{\"type\":\"scatterternary\",\"marker\":{\"colorbar\":{\"outlinewidth\":0,\"ticks\":\"\"}}}],\"scattercarpet\":[{\"type\":\"scattercarpet\",\"marker\":{\"colorbar\":{\"outlinewidth\":0,\"ticks\":\"\"}}}],\"carpet\":[{\"aaxis\":{\"endlinecolor\":\"#2a3f5f\",\"gridcolor\":\"white\",\"linecolor\":\"white\",\"minorgridcolor\":\"white\",\"startlinecolor\":\"#2a3f5f\"},\"baxis\":{\"endlinecolor\":\"#2a3f5f\",\"gridcolor\":\"white\",\"linecolor\":\"white\",\"minorgridcolor\":\"white\",\"startlinecolor\":\"#2a3f5f\"},\"type\":\"carpet\"}],\"table\":[{\"cells\":{\"fill\":{\"color\":\"#EBF0F8\"},\"line\":{\"color\":\"white\"}},\"header\":{\"fill\":{\"color\":\"#C8D4E3\"},\"line\":{\"color\":\"white\"}},\"type\":\"table\"}],\"barpolar\":[{\"marker\":{\"line\":{\"color\":\"#E5ECF6\",\"width\":0.5},\"pattern\":{\"fillmode\":\"overlay\",\"size\":10,\"solidity\":0.2}},\"type\":\"barpolar\"}],\"pie\":[{\"automargin\":true,\"type\":\"pie\"}]},\"layout\":{\"autotypenumbers\":\"strict\",\"colorway\":[\"#636efa\",\"#EF553B\",\"#00cc96\",\"#ab63fa\",\"#FFA15A\",\"#19d3f3\",\"#FF6692\",\"#B6E880\",\"#FF97FF\",\"#FECB52\"],\"font\":{\"color\":\"#2a3f5f\"},\"hovermode\":\"closest\",\"hoverlabel\":{\"align\":\"left\"},\"paper_bgcolor\":\"white\",\"plot_bgcolor\":\"#E5ECF6\",\"polar\":{\"bgcolor\":\"#E5ECF6\",\"angularaxis\":{\"gridcolor\":\"white\",\"linecolor\":\"white\",\"ticks\":\"\"},\"radialaxis\":{\"gridcolor\":\"white\",\"linecolor\":\"white\",\"ticks\":\"\"}},\"ternary\":{\"bgcolor\":\"#E5ECF6\",\"aaxis\":{\"gridcolor\":\"white\",\"linecolor\":\"white\",\"ticks\":\"\"},\"baxis\":{\"gridcolor\":\"white\",\"linecolor\":\"white\",\"ticks\":\"\"},\"caxis\":{\"gridcolor\":\"white\",\"linecolor\":\"white\",\"ticks\":\"\"}},\"coloraxis\":{\"colorbar\":{\"outlinewidth\":0,\"ticks\":\"\"}},\"colorscale\":{\"sequential\":[[0.0,\"#0d0887\"],[0.1111111111111111,\"#46039f\"],[0.2222222222222222,\"#7201a8\"],[0.3333333333333333,\"#9c179e\"],[0.4444444444444444,\"#bd3786\"],[0.5555555555555556,\"#d8576b\"],[0.6666666666666666,\"#ed7953\"],[0.7777777777777778,\"#fb9f3a\"],[0.8888888888888888,\"#fdca26\"],[1.0,\"#f0f921\"]],\"sequentialminus\":[[0.0,\"#0d0887\"],[0.1111111111111111,\"#46039f\"],[0.2222222222222222,\"#7201a8\"],[0.3333333333333333,\"#9c179e\"],[0.4444444444444444,\"#bd3786\"],[0.5555555555555556,\"#d8576b\"],[0.6666666666666666,\"#ed7953\"],[0.7777777777777778,\"#fb9f3a\"],[0.8888888888888888,\"#fdca26\"],[1.0,\"#f0f921\"]],\"diverging\":[[0,\"#8e0152\"],[0.1,\"#c51b7d\"],[0.2,\"#de77ae\"],[0.3,\"#f1b6da\"],[0.4,\"#fde0ef\"],[0.5,\"#f7f7f7\"],[0.6,\"#e6f5d0\"],[0.7,\"#b8e186\"],[0.8,\"#7fbc41\"],[0.9,\"#4d9221\"],[1,\"#276419\"]]},\"xaxis\":{\"gridcolor\":\"white\",\"linecolor\":\"white\",\"ticks\":\"\",\"title\":{\"standoff\":15},\"zerolinecolor\":\"white\",\"automargin\":true,\"zerolinewidth\":2},\"yaxis\":{\"gridcolor\":\"white\",\"linecolor\":\"white\",\"ticks\":\"\",\"title\":{\"standoff\":15},\"zerolinecolor\":\"white\",\"automargin\":true,\"zerolinewidth\":2},\"scene\":{\"xaxis\":{\"backgroundcolor\":\"#E5ECF6\",\"gridcolor\":\"white\",\"linecolor\":\"white\",\"showbackground\":true,\"ticks\":\"\",\"zerolinecolor\":\"white\",\"gridwidth\":2},\"yaxis\":{\"backgroundcolor\":\"#E5ECF6\",\"gridcolor\":\"white\",\"linecolor\":\"white\",\"showbackground\":true,\"ticks\":\"\",\"zerolinecolor\":\"white\",\"gridwidth\":2},\"zaxis\":{\"backgroundcolor\":\"#E5ECF6\",\"gridcolor\":\"white\",\"linecolor\":\"white\",\"showbackground\":true,\"ticks\":\"\",\"zerolinecolor\":\"white\",\"gridwidth\":2}},\"shapedefaults\":{\"line\":{\"color\":\"#2a3f5f\"}},\"annotationdefaults\":{\"arrowcolor\":\"#2a3f5f\",\"arrowhead\":0,\"arrowwidth\":1},\"geo\":{\"bgcolor\":\"white\",\"landcolor\":\"#E5ECF6\",\"subunitcolor\":\"white\",\"showland\":true,\"showlakes\":true,\"lakecolor\":\"white\"},\"title\":{\"x\":0.05},\"mapbox\":{\"style\":\"light\"}}},\"xaxis\":{\"anchor\":\"y\",\"domain\":[0.0,1.0],\"title\":{\"text\":\"Country\"}},\"yaxis\":{\"anchor\":\"x\",\"domain\":[0.0,1.0],\"title\":{\"text\":\"2019\"}},\"legend\":{\"tracegroupgap\":0},\"margin\":{\"t\":60},\"barmode\":\"relative\",\"shapes\":[{\"line\":{\"dash\":\"dash\"},\"type\":\"line\",\"x0\":0,\"x1\":1,\"xref\":\"x domain\",\"y0\":50,\"y1\":50,\"yref\":\"y\"}]},                        {\"responsive\": true}                    ).then(function(){\n",
       "                            \n",
       "var gd = document.getElementById('1f0424b9-5bc3-48c8-a012-9a29d3bf26c9');\n",
       "var x = new MutationObserver(function (mutations, observer) {{\n",
       "        var display = window.getComputedStyle(gd).display;\n",
       "        if (!display || display === 'none') {{\n",
       "            console.log([gd, 'removed!']);\n",
       "            Plotly.purge(gd);\n",
       "            observer.disconnect();\n",
       "        }}\n",
       "}});\n",
       "\n",
       "// Listen for the removal of the full notebook cells\n",
       "var notebookContainer = gd.closest('#notebook-container');\n",
       "if (notebookContainer) {{\n",
       "    x.observe(notebookContainer, {childList: true});\n",
       "}}\n",
       "\n",
       "// Listen for the clearing of the current output cell\n",
       "var outputEl = gd.closest('.output');\n",
       "if (outputEl) {{\n",
       "    x.observe(outputEl, {childList: true});\n",
       "}}\n",
       "\n",
       "                        })                };                });            </script>        </div>"
      ]
     },
     "metadata": {},
     "output_type": "display_data"
    }
   ],
   "source": [
    "import plotly.express as px\n",
    "\n",
    "fig=px.bar(gini_df_adjusted, x=\"Country\", y=\"2019\", text_auto=True)\n",
    "fig.add_hline(y=50, line_dash=\"dash\")\n",
    "fig.show()"
   ]
  },
  {
   "cell_type": "markdown",
   "id": "c1489ba6",
   "metadata": {},
   "source": [
    "# Q4 Is there a positive correlation between GNPA and government corruption?\n",
    "<font size = 3>\n",
    "-Trying to determine if  high government corruption is a leading factor towards an increase in bad loans borne by the countrys public banks.\n",
    "-Corrupt regimes can sometimes force the countrys' baks to sanction loans to the government to fund bad and corrupt schemes and policies. </font>"
   ]
  },
  {
   "cell_type": "code",
   "execution_count": 91,
   "id": "36579d7b",
   "metadata": {},
   "outputs": [],
   "source": [
    "corruption_df = pd.read_csv(\"data/SDR-2022-corruption-perceptions-index.csv\")"
   ]
  },
  {
   "cell_type": "code",
   "execution_count": 147,
   "id": "1917cc5a",
   "metadata": {},
   "outputs": [],
   "source": [
    "corruption_2019_20_df = corruption_df[[\"Country\",\"2015\", \"2016\", \"2017\", \"2018\", \"2019\", \"2020\"]]"
   ]
  },
  {
   "cell_type": "code",
   "execution_count": 148,
   "id": "0bc09d34",
   "metadata": {},
   "outputs": [],
   "source": [
    "GNPA_df = pd.read_csv(\"data/tableConvert.com_367qc7.xlsx - Sheet 1 (2).csv\")"
   ]
  },
  {
   "cell_type": "code",
   "execution_count": 149,
   "id": "ef1d5480",
   "metadata": {},
   "outputs": [
    {
     "data": {
      "text/html": [
       "<div>\n",
       "<style scoped>\n",
       "    .dataframe tbody tr th:only-of-type {\n",
       "        vertical-align: middle;\n",
       "    }\n",
       "\n",
       "    .dataframe tbody tr th {\n",
       "        vertical-align: top;\n",
       "    }\n",
       "\n",
       "    .dataframe thead th {\n",
       "        text-align: right;\n",
       "    }\n",
       "</style>\n",
       "<table border=\"1\" class=\"dataframe\">\n",
       "  <thead>\n",
       "    <tr style=\"text-align: right;\">\n",
       "      <th></th>\n",
       "      <th>Countries</th>\n",
       "      <th>2015</th>\n",
       "      <th>2016</th>\n",
       "      <th>2017</th>\n",
       "      <th>2018</th>\n",
       "      <th>2019</th>\n",
       "      <th>2020</th>\n",
       "    </tr>\n",
       "  </thead>\n",
       "  <tbody>\n",
       "    <tr>\n",
       "      <th>0</th>\n",
       "      <td>Australia</td>\n",
       "      <td>0.89</td>\n",
       "      <td>0.95</td>\n",
       "      <td>0.86</td>\n",
       "      <td>0.90</td>\n",
       "      <td>0.96</td>\n",
       "      <td>1.11</td>\n",
       "    </tr>\n",
       "    <tr>\n",
       "      <th>1</th>\n",
       "      <td>Bangladesh</td>\n",
       "      <td>8.40</td>\n",
       "      <td>8.86</td>\n",
       "      <td>8.90</td>\n",
       "      <td>5.01</td>\n",
       "      <td>8.90</td>\n",
       "      <td>7.74</td>\n",
       "    </tr>\n",
       "    <tr>\n",
       "      <th>2</th>\n",
       "      <td>Belarus</td>\n",
       "      <td>6.83</td>\n",
       "      <td>12.79</td>\n",
       "      <td>12.85</td>\n",
       "      <td>2.27</td>\n",
       "      <td>4.63</td>\n",
       "      <td>4.83</td>\n",
       "    </tr>\n",
       "    <tr>\n",
       "      <th>3</th>\n",
       "      <td>Belgium</td>\n",
       "      <td>3.85</td>\n",
       "      <td>3.48</td>\n",
       "      <td>2.96</td>\n",
       "      <td>3.05</td>\n",
       "      <td>2.09</td>\n",
       "      <td>2.07</td>\n",
       "    </tr>\n",
       "    <tr>\n",
       "      <th>4</th>\n",
       "      <td>Brazil</td>\n",
       "      <td>3.31</td>\n",
       "      <td>3.92</td>\n",
       "      <td>3.59</td>\n",
       "      <td>0.51</td>\n",
       "      <td>3.11</td>\n",
       "      <td>2.24</td>\n",
       "    </tr>\n",
       "    <tr>\n",
       "      <th>5</th>\n",
       "      <td>Canada</td>\n",
       "      <td>0.52</td>\n",
       "      <td>0.60</td>\n",
       "      <td>0.45</td>\n",
       "      <td>1.83</td>\n",
       "      <td>0.50</td>\n",
       "      <td>0.53</td>\n",
       "    </tr>\n",
       "    <tr>\n",
       "      <th>6</th>\n",
       "      <td>China</td>\n",
       "      <td>1.67</td>\n",
       "      <td>1.74</td>\n",
       "      <td>1.74</td>\n",
       "      <td>4.50</td>\n",
       "      <td>1.86</td>\n",
       "      <td>1.84</td>\n",
       "    </tr>\n",
       "    <tr>\n",
       "      <th>7</th>\n",
       "      <td>France</td>\n",
       "      <td>4.05</td>\n",
       "      <td>3.70</td>\n",
       "      <td>3.12</td>\n",
       "      <td>2.75</td>\n",
       "      <td>2.47</td>\n",
       "      <td>2.71</td>\n",
       "    </tr>\n",
       "    <tr>\n",
       "      <th>8</th>\n",
       "      <td>Germany</td>\n",
       "      <td>1.97</td>\n",
       "      <td>1.71</td>\n",
       "      <td>1.50</td>\n",
       "      <td>1.24</td>\n",
       "      <td>1.05</td>\n",
       "      <td>1.05</td>\n",
       "    </tr>\n",
       "    <tr>\n",
       "      <th>9</th>\n",
       "      <td>India</td>\n",
       "      <td>5.88</td>\n",
       "      <td>9.19</td>\n",
       "      <td>9.98</td>\n",
       "      <td>9.46</td>\n",
       "      <td>9.23</td>\n",
       "      <td>7.94</td>\n",
       "    </tr>\n",
       "    <tr>\n",
       "      <th>10</th>\n",
       "      <td>Russia</td>\n",
       "      <td>8.38</td>\n",
       "      <td>9.24</td>\n",
       "      <td>9.66</td>\n",
       "      <td>9.75</td>\n",
       "      <td>8.83</td>\n",
       "      <td>8.26</td>\n",
       "    </tr>\n",
       "    <tr>\n",
       "      <th>11</th>\n",
       "      <td>UK</td>\n",
       "      <td>1.01</td>\n",
       "      <td>0.94</td>\n",
       "      <td>0.73</td>\n",
       "      <td>1.07</td>\n",
       "      <td>1.08</td>\n",
       "      <td>1.22</td>\n",
       "    </tr>\n",
       "    <tr>\n",
       "      <th>12</th>\n",
       "      <td>USA</td>\n",
       "      <td>1.47</td>\n",
       "      <td>1.32</td>\n",
       "      <td>1.13</td>\n",
       "      <td>0.91</td>\n",
       "      <td>0.86</td>\n",
       "      <td>1.07</td>\n",
       "    </tr>\n",
       "  </tbody>\n",
       "</table>\n",
       "</div>"
      ],
      "text/plain": [
       "     Countries  2015   2016   2017  2018  2019  2020\n",
       "0    Australia  0.89   0.95   0.86  0.90  0.96  1.11\n",
       "1   Bangladesh  8.40   8.86   8.90  5.01  8.90  7.74\n",
       "2      Belarus  6.83  12.79  12.85  2.27  4.63  4.83\n",
       "3      Belgium  3.85   3.48   2.96  3.05  2.09  2.07\n",
       "4       Brazil  3.31   3.92   3.59  0.51  3.11  2.24\n",
       "5       Canada  0.52   0.60   0.45  1.83  0.50  0.53\n",
       "6        China  1.67   1.74   1.74  4.50  1.86  1.84\n",
       "7       France  4.05   3.70   3.12  2.75  2.47  2.71\n",
       "8      Germany  1.97   1.71   1.50  1.24  1.05  1.05\n",
       "9        India  5.88   9.19   9.98  9.46  9.23  7.94\n",
       "10      Russia  8.38   9.24   9.66  9.75  8.83  8.26\n",
       "11          UK  1.01   0.94   0.73  1.07  1.08  1.22\n",
       "12         USA  1.47   1.32   1.13  0.91  0.86  1.07"
      ]
     },
     "execution_count": 149,
     "metadata": {},
     "output_type": "execute_result"
    }
   ],
   "source": [
    "GNPA_df"
   ]
  },
  {
   "cell_type": "code",
   "execution_count": 150,
   "id": "d9adf295",
   "metadata": {},
   "outputs": [],
   "source": [
    "corr = corruption_2019_20_df.corrwith(GNPA_df)"
   ]
  },
  {
   "cell_type": "code",
   "execution_count": 151,
   "id": "8a609fb2",
   "metadata": {},
   "outputs": [
    {
     "data": {
      "text/plain": [
       "2015   -0.153629\n",
       "2016   -0.225206\n",
       "2017   -0.204137\n",
       "2018    0.058952\n",
       "2019    0.021382\n",
       "2020   -0.008551\n",
       "dtype: float64"
      ]
     },
     "execution_count": 151,
     "metadata": {},
     "output_type": "execute_result"
    }
   ],
   "source": [
    "corr"
   ]
  },
  {
   "cell_type": "code",
   "execution_count": 153,
   "id": "2ac3170f",
   "metadata": {},
   "outputs": [],
   "source": [
    "corr1 = np.asarray(corr).reshape(6,1)"
   ]
  },
  {
   "cell_type": "code",
   "execution_count": 154,
   "id": "eb0c3f80",
   "metadata": {},
   "outputs": [
    {
     "data": {
      "text/plain": [
       "array([[-0.15362869],\n",
       "       [-0.2252055 ],\n",
       "       [-0.20413724],\n",
       "       [ 0.05895157],\n",
       "       [ 0.02138209],\n",
       "       [-0.00855092]])"
      ]
     },
     "execution_count": 154,
     "metadata": {},
     "output_type": "execute_result"
    }
   ],
   "source": [
    "corr1"
   ]
  },
  {
   "cell_type": "code",
   "execution_count": 155,
   "id": "3e61a188",
   "metadata": {
    "scrolled": true
   },
   "outputs": [
    {
     "data": {
      "image/png": "[encoded data removed]",
      "text/plain": [
       "<Figure size 640x480 with 2 Axes>"
      ]
     },
     "metadata": {},
     "output_type": "display_data"
    }
   ],
   "source": [
    "dataplot = sns.heatmap(corr1, cmap=\"YlGnBu\", annot=True)"
   ]
  },
  {
   "cell_type": "markdown",
   "id": "a28ad3c0",
   "metadata": {},
   "source": [
    "Results have proven to be inconclusive, there does not appear to be any kind of strong positive/negative correlation between the two parameters (GNPA and Corruption index)."
   ]
  },
  {
   "cell_type": "code",
   "execution_count": 158,
   "id": "b705c3b7",
   "metadata": {},
   "outputs": [],
   "source": [
    "gdp_df = pd.read_csv(\"GDP.csv\")"
   ]
  },
  {
   "cell_type": "code",
   "execution_count": 159,
   "id": "b9592340",
   "metadata": {},
   "outputs": [
    {
     "data": {
      "text/html": [
       "<div>\n",
       "<style scoped>\n",
       "    .dataframe tbody tr th:only-of-type {\n",
       "        vertical-align: middle;\n",
       "    }\n",
       "\n",
       "    .dataframe tbody tr th {\n",
       "        vertical-align: top;\n",
       "    }\n",
       "\n",
       "    .dataframe thead th {\n",
       "        text-align: right;\n",
       "    }\n",
       "</style>\n",
       "<table border=\"1\" class=\"dataframe\">\n",
       "  <thead>\n",
       "    <tr style=\"text-align: right;\">\n",
       "      <th></th>\n",
       "      <th>Country Name</th>\n",
       "      <th>Country Code</th>\n",
       "      <th>2015</th>\n",
       "      <th>2016</th>\n",
       "      <th>2017</th>\n",
       "      <th>2018</th>\n",
       "      <th>2019</th>\n",
       "      <th>2020</th>\n",
       "      <th>2021</th>\n",
       "    </tr>\n",
       "  </thead>\n",
       "  <tbody>\n",
       "    <tr>\n",
       "      <th>0</th>\n",
       "      <td>Australia</td>\n",
       "      <td>AUS</td>\n",
       "      <td>0.712256</td>\n",
       "      <td>1.149347</td>\n",
       "      <td>0.587161</td>\n",
       "      <td>1.302841</td>\n",
       "      <td>0.571103</td>\n",
       "      <td>-1.278526</td>\n",
       "      <td>1.293855</td>\n",
       "    </tr>\n",
       "    <tr>\n",
       "      <th>1</th>\n",
       "      <td>Belgium</td>\n",
       "      <td>BEL</td>\n",
       "      <td>1.451893</td>\n",
       "      <td>0.755269</td>\n",
       "      <td>1.228866</td>\n",
       "      <td>1.381375</td>\n",
       "      <td>1.561147</td>\n",
       "      <td>-6.132230</td>\n",
       "      <td>5.844595</td>\n",
       "    </tr>\n",
       "    <tr>\n",
       "      <th>2</th>\n",
       "      <td>Belarus</td>\n",
       "      <td>BLR</td>\n",
       "      <td>-3.957251</td>\n",
       "      <td>-2.611914</td>\n",
       "      <td>2.644808</td>\n",
       "      <td>3.369992</td>\n",
       "      <td>1.604818</td>\n",
       "      <td>-0.479446</td>\n",
       "      <td>2.941756</td>\n",
       "    </tr>\n",
       "    <tr>\n",
       "      <th>3</th>\n",
       "      <td>Brazil</td>\n",
       "      <td>BRA</td>\n",
       "      <td>-4.351475</td>\n",
       "      <td>-4.069411</td>\n",
       "      <td>0.508338</td>\n",
       "      <td>0.988960</td>\n",
       "      <td>0.462904</td>\n",
       "      <td>-4.561463</td>\n",
       "      <td>3.918337</td>\n",
       "    </tr>\n",
       "    <tr>\n",
       "      <th>4</th>\n",
       "      <td>Canada</td>\n",
       "      <td>CAN</td>\n",
       "      <td>-0.089286</td>\n",
       "      <td>-0.135843</td>\n",
       "      <td>1.811279</td>\n",
       "      <td>1.335564</td>\n",
       "      <td>0.426918</td>\n",
       "      <td>-6.319222</td>\n",
       "      <td>3.991761</td>\n",
       "    </tr>\n",
       "    <tr>\n",
       "      <th>5</th>\n",
       "      <td>China</td>\n",
       "      <td>CHN</td>\n",
       "      <td>6.420736</td>\n",
       "      <td>6.238215</td>\n",
       "      <td>6.301863</td>\n",
       "      <td>6.251701</td>\n",
       "      <td>5.575317</td>\n",
       "      <td>1.996619</td>\n",
       "      <td>8.013345</td>\n",
       "    </tr>\n",
       "    <tr>\n",
       "      <th>6</th>\n",
       "      <td>Germany</td>\n",
       "      <td>DEU</td>\n",
       "      <td>0.617105</td>\n",
       "      <td>1.408102</td>\n",
       "      <td>2.297206</td>\n",
       "      <td>0.782690</td>\n",
       "      <td>0.827865</td>\n",
       "      <td>-4.647545</td>\n",
       "      <td>2.931698</td>\n",
       "    </tr>\n",
       "    <tr>\n",
       "      <th>7</th>\n",
       "      <td>France</td>\n",
       "      <td>FRA</td>\n",
       "      <td>0.754024</td>\n",
       "      <td>0.829057</td>\n",
       "      <td>1.994998</td>\n",
       "      <td>1.585879</td>\n",
       "      <td>1.620358</td>\n",
       "      <td>-8.034379</td>\n",
       "      <td>6.774307</td>\n",
       "    </tr>\n",
       "    <tr>\n",
       "      <th>8</th>\n",
       "      <td>India</td>\n",
       "      <td>IND</td>\n",
       "      <td>6.796759</td>\n",
       "      <td>7.082228</td>\n",
       "      <td>5.665781</td>\n",
       "      <td>5.354757</td>\n",
       "      <td>2.692090</td>\n",
       "      <td>-7.515675</td>\n",
       "      <td>7.899879</td>\n",
       "    </tr>\n",
       "    <tr>\n",
       "      <th>9</th>\n",
       "      <td>Russian Federation</td>\n",
       "      <td>RUS</td>\n",
       "      <td>-2.183885</td>\n",
       "      <td>0.010248</td>\n",
       "      <td>1.709386</td>\n",
       "      <td>2.815524</td>\n",
       "      <td>2.243980</td>\n",
       "      <td>-2.480729</td>\n",
       "      <td>5.234384</td>\n",
       "    </tr>\n",
       "    <tr>\n",
       "      <th>10</th>\n",
       "      <td>United States</td>\n",
       "      <td>USA</td>\n",
       "      <td>1.953004</td>\n",
       "      <td>0.933375</td>\n",
       "      <td>1.610808</td>\n",
       "      <td>2.378479</td>\n",
       "      <td>1.824124</td>\n",
       "      <td>-4.328618</td>\n",
       "      <td>5.546087</td>\n",
       "    </tr>\n",
       "  </tbody>\n",
       "</table>\n",
       "</div>"
      ],
      "text/plain": [
       "          Country Name Country Code      2015      2016      2017      2018  \\\n",
       "0            Australia          AUS  0.712256  1.149347  0.587161  1.302841   \n",
       "1              Belgium          BEL  1.451893  0.755269  1.228866  1.381375   \n",
       "2              Belarus          BLR -3.957251 -2.611914  2.644808  3.369992   \n",
       "3               Brazil          BRA -4.351475 -4.069411  0.508338  0.988960   \n",
       "4               Canada          CAN -0.089286 -0.135843  1.811279  1.335564   \n",
       "5                China          CHN  6.420736  6.238215  6.301863  6.251701   \n",
       "6              Germany          DEU  0.617105  1.408102  2.297206  0.782690   \n",
       "7               France          FRA  0.754024  0.829057  1.994998  1.585879   \n",
       "8                India          IND  6.796759  7.082228  5.665781  5.354757   \n",
       "9   Russian Federation          RUS -2.183885  0.010248  1.709386  2.815524   \n",
       "10       United States          USA  1.953004  0.933375  1.610808  2.378479   \n",
       "\n",
       "        2019      2020      2021  \n",
       "0   0.571103 -1.278526  1.293855  \n",
       "1   1.561147 -6.132230  5.844595  \n",
       "2   1.604818 -0.479446  2.941756  \n",
       "3   0.462904 -4.561463  3.918337  \n",
       "4   0.426918 -6.319222  3.991761  \n",
       "5   5.575317  1.996619  8.013345  \n",
       "6   0.827865 -4.647545  2.931698  \n",
       "7   1.620358 -8.034379  6.774307  \n",
       "8   2.692090 -7.515675  7.899879  \n",
       "9   2.243980 -2.480729  5.234384  \n",
       "10  1.824124 -4.328618  5.546087  "
      ]
     },
     "execution_count": 159,
     "metadata": {},
     "output_type": "execute_result"
    }
   ],
   "source": [
    "gdp_df"
   ]
  },
  {
   "cell_type": "code",
   "execution_count": 162,
   "id": "7f2f3424",
   "metadata": {},
   "outputs": [],
   "source": [
    "pop_access_elec_df = pd.read_csv(\"data/electricity.csv\")\n"
   ]
  },
  {
   "cell_type": "code",
   "execution_count": 181,
   "id": "117e9408",
   "metadata": {},
   "outputs": [],
   "source": [
    "df2 = gdp_df.loc[gdp_df['Country Name'].isin([\"India\"])]"
   ]
  },
  {
   "cell_type": "code",
   "execution_count": 182,
   "id": "ab739655",
   "metadata": {},
   "outputs": [
    {
     "data": {
      "text/html": [
       "<div>\n",
       "<style scoped>\n",
       "    .dataframe tbody tr th:only-of-type {\n",
       "        vertical-align: middle;\n",
       "    }\n",
       "\n",
       "    .dataframe tbody tr th {\n",
       "        vertical-align: top;\n",
       "    }\n",
       "\n",
       "    .dataframe thead th {\n",
       "        text-align: right;\n",
       "    }\n",
       "</style>\n",
       "<table border=\"1\" class=\"dataframe\">\n",
       "  <thead>\n",
       "    <tr style=\"text-align: right;\">\n",
       "      <th></th>\n",
       "      <th>Country Name</th>\n",
       "      <th>Country Code</th>\n",
       "      <th>2015</th>\n",
       "      <th>2016</th>\n",
       "      <th>2017</th>\n",
       "      <th>2018</th>\n",
       "      <th>2019</th>\n",
       "      <th>2020</th>\n",
       "      <th>2021</th>\n",
       "    </tr>\n",
       "  </thead>\n",
       "  <tbody>\n",
       "    <tr>\n",
       "      <th>8</th>\n",
       "      <td>India</td>\n",
       "      <td>IND</td>\n",
       "      <td>6.796759</td>\n",
       "      <td>7.082228</td>\n",
       "      <td>5.665781</td>\n",
       "      <td>5.354757</td>\n",
       "      <td>2.69209</td>\n",
       "      <td>-7.515675</td>\n",
       "      <td>7.899879</td>\n",
       "    </tr>\n",
       "  </tbody>\n",
       "</table>\n",
       "</div>"
      ],
      "text/plain": [
       "  Country Name Country Code      2015      2016      2017      2018     2019  \\\n",
       "8        India          IND  6.796759  7.082228  5.665781  5.354757  2.69209   \n",
       "\n",
       "       2020      2021  \n",
       "8 -7.515675  7.899879  "
      ]
     },
     "execution_count": 182,
     "metadata": {},
     "output_type": "execute_result"
    }
   ],
   "source": [
    "df2"
   ]
  },
  {
   "cell_type": "code",
   "execution_count": 183,
   "id": "a35042a2",
   "metadata": {},
   "outputs": [],
   "source": [
    "df1 = pop_access_elec_df.loc[pop_access_elec_df['Country'].isin([\"India\"])]"
   ]
  },
  {
   "cell_type": "code",
   "execution_count": 184,
   "id": "09024979",
   "metadata": {},
   "outputs": [
    {
     "data": {
      "text/html": [
       "<div>\n",
       "<style scoped>\n",
       "    .dataframe tbody tr th:only-of-type {\n",
       "        vertical-align: middle;\n",
       "    }\n",
       "\n",
       "    .dataframe tbody tr th {\n",
       "        vertical-align: top;\n",
       "    }\n",
       "\n",
       "    .dataframe thead th {\n",
       "        text-align: right;\n",
       "    }\n",
       "</style>\n",
       "<table border=\"1\" class=\"dataframe\">\n",
       "  <thead>\n",
       "    <tr style=\"text-align: right;\">\n",
       "      <th></th>\n",
       "      <th>ISO</th>\n",
       "      <th>Country</th>\n",
       "      <th>2015</th>\n",
       "      <th>2016</th>\n",
       "      <th>2017</th>\n",
       "      <th>2018</th>\n",
       "      <th>2019</th>\n",
       "    </tr>\n",
       "  </thead>\n",
       "  <tbody>\n",
       "    <tr>\n",
       "      <th>9</th>\n",
       "      <td>IND</td>\n",
       "      <td>India</td>\n",
       "      <td>88.0</td>\n",
       "      <td>89.54</td>\n",
       "      <td>92.46</td>\n",
       "      <td>95.19</td>\n",
       "      <td>97.82</td>\n",
       "    </tr>\n",
       "  </tbody>\n",
       "</table>\n",
       "</div>"
      ],
      "text/plain": [
       "   ISO Country  2015   2016   2017   2018   2019\n",
       "9  IND   India  88.0  89.54  92.46  95.19  97.82"
      ]
     },
     "execution_count": 184,
     "metadata": {},
     "output_type": "execute_result"
    }
   ],
   "source": [
    "df1"
   ]
  },
  {
   "cell_type": "code",
   "execution_count": 195,
   "id": "161233cb",
   "metadata": {},
   "outputs": [],
   "source": [
    "def normalize(arr, t_min, t_max):\n",
    "    norm_arr = []\n",
    "    diff = t_max - t_min\n",
    "    diff_arr = max(arr) - min(arr)    \n",
    "    for i in arr:\n",
    "        temp = (((i - min(arr))*diff)/diff_arr) + t_min\n",
    "        norm_arr.append(temp)\n",
    "    return norm_arr\n",
    "range_to_normalize = (0,1)\n",
    "ar1 = normalize([88.0, 89.54, 92.46, 95.19, 97.82], \n",
    "                                range_to_normalize[0], \n",
    "                                range_to_normalize[1])\n",
    "\n",
    "ar2 = normalize([6.796759,7.082228,5.665781,5.354757,2.69209], \n",
    "                                range_to_normalize[0], \n",
    "                                range_to_normalize[1])"
   ]
  },
  {
   "cell_type": "code",
   "execution_count": 201,
   "id": "8d850d2d",
   "metadata": {},
   "outputs": [
    {
     "data": {
      "application/vnd.plotly.v1+json": {
       "config": {
        "plotlyServerURL": "https://plot.ly"
       },
       "data": [
        {
         "hovertemplate": "<extra></extra>",
         "legendgroup": "",
         "marker": {
          "color": "#636efa",
          "symbol": "circle"
         },
         "mode": "markers",
         "name": "",
         "orientation": "v",
         "showlegend": false,
         "type": "scatter",
         "xaxis": "x",
         "yaxis": "y"
        },
        {
         "type": "scatter",
         "x": [
          2015,
          2016,
          2017,
          2018,
          2019
         ],
         "y": [
          0,
          0.1568228105906321,
          0.4541751527494905,
          0.7321792260692467,
          1
         ]
        },
        {
         "type": "scatter",
         "x": [
          2015,
          2016,
          2017,
          2018,
          2019
         ],
         "y": [
          0.9349749370065358,
          1,
          0.6773570671354749,
          0.6065110026154076,
          0
         ]
        }
       ],
       "layout": {
        "legend": {
         "tracegroupgap": 0
        },
        "margin": {
         "t": 60
        },
        "template": {
         "data": {
          "bar": [
           {
            "error_x": {
             "color": "#2a3f5f"
            },
            "error_y": {
             "color": "#2a3f5f"
            },
            "marker": {
             "line": {
              "color": "#E5ECF6",
              "width": 0.5
             },
             "pattern": {
              "fillmode": "overlay",
              "size": 10,
              "solidity": 0.2
             }
            },
            "type": "bar"
           }
          ],
          "barpolar": [
           {
            "marker": {
             "line": {
              "color": "#E5ECF6",
              "width": 0.5
             },
             "pattern": {
              "fillmode": "overlay",
              "size": 10,
              "solidity": 0.2
             }
            },
            "type": "barpolar"
           }
          ],
          "carpet": [
           {
            "aaxis": {
             "endlinecolor": "#2a3f5f",
             "gridcolor": "white",
             "linecolor": "white",
             "minorgridcolor": "white",
             "startlinecolor": "#2a3f5f"
            },
            "baxis": {
             "endlinecolor": "#2a3f5f",
             "gridcolor": "white",
             "linecolor": "white",
             "minorgridcolor": "white",
             "startlinecolor": "#2a3f5f"
            },
            "type": "carpet"
           }
          ],
          "choropleth": [
           {
            "colorbar": {
             "outlinewidth": 0,
             "ticks": ""
            },
            "type": "choropleth"
           }
          ],
          "contour": [
           {
            "colorbar": {
             "outlinewidth": 0,
             "ticks": ""
            },
            "colorscale": [
             [
              0,
              "#0d0887"
             ],
             [
              0.1111111111111111,
              "#46039f"
             ],
             [
              0.2222222222222222,
              "#7201a8"
             ],
             [
              0.3333333333333333,
              "#9c179e"
             ],
             [
              0.4444444444444444,
              "#bd3786"
             ],
             [
              0.5555555555555556,
              "#d8576b"
             ],
             [
              0.6666666666666666,
              "#ed7953"
             ],
             [
              0.7777777777777778,
              "#fb9f3a"
             ],
             [
              0.8888888888888888,
              "#fdca26"
             ],
             [
              1,
              "#f0f921"
             ]
            ],
            "type": "contour"
           }
          ],
          "contourcarpet": [
           {
            "colorbar": {
             "outlinewidth": 0,
             "ticks": ""
            },
            "type": "contourcarpet"
           }
          ],
          "heatmap": [
           {
            "colorbar": {
             "outlinewidth": 0,
             "ticks": ""
            },
            "colorscale": [
             [
              0,
              "#0d0887"
             ],
             [
              0.1111111111111111,
              "#46039f"
             ],
             [
              0.2222222222222222,
              "#7201a8"
             ],
             [
              0.3333333333333333,
              "#9c179e"
             ],
             [
              0.4444444444444444,
              "#bd3786"
             ],
             [
              0.5555555555555556,
              "#d8576b"
             ],
             [
              0.6666666666666666,
              "#ed7953"
             ],
             [
              0.7777777777777778,
              "#fb9f3a"
             ],
             [
              0.8888888888888888,
              "#fdca26"
             ],
             [
              1,
              "#f0f921"
             ]
            ],
            "type": "heatmap"
           }
          ],
          "heatmapgl": [
           {
            "colorbar": {
             "outlinewidth": 0,
             "ticks": ""
            },
            "colorscale": [
             [
              0,
              "#0d0887"
             ],
             [
              0.1111111111111111,
              "#46039f"
             ],
             [
              0.2222222222222222,
              "#7201a8"
             ],
             [
              0.3333333333333333,
              "#9c179e"
             ],
             [
              0.4444444444444444,
              "#bd3786"
             ],
             [
              0.5555555555555556,
              "#d8576b"
             ],
             [
              0.6666666666666666,
              "#ed7953"
             ],
             [
              0.7777777777777778,
              "#fb9f3a"
             ],
             [
              0.8888888888888888,
              "#fdca26"
             ],
             [
              1,
              "#f0f921"
             ]
            ],
            "type": "heatmapgl"
           }
          ],
          "histogram": [
           {
            "marker": {
             "pattern": {
              "fillmode": "overlay",
              "size": 10,
              "solidity": 0.2
             }
            },
            "type": "histogram"
           }
          ],
          "histogram2d": [
           {
            "colorbar": {
             "outlinewidth": 0,
             "ticks": ""
            },
            "colorscale": [
             [
              0,
              "#0d0887"
             ],
             [
              0.1111111111111111,
              "#46039f"
             ],
             [
              0.2222222222222222,
              "#7201a8"
             ],
             [
              0.3333333333333333,
              "#9c179e"
             ],
             [
              0.4444444444444444,
              "#bd3786"
             ],
             [
              0.5555555555555556,
              "#d8576b"
             ],
             [
              0.6666666666666666,
              "#ed7953"
             ],
             [
              0.7777777777777778,
              "#fb9f3a"
             ],
             [
              0.8888888888888888,
              "#fdca26"
             ],
             [
              1,
              "#f0f921"
             ]
            ],
            "type": "histogram2d"
           }
          ],
          "histogram2dcontour": [
           {
            "colorbar": {
             "outlinewidth": 0,
             "ticks": ""
            },
            "colorscale": [
             [
              0,
              "#0d0887"
             ],
             [
              0.1111111111111111,
              "#46039f"
             ],
             [
              0.2222222222222222,
              "#7201a8"
             ],
             [
              0.3333333333333333,
              "#9c179e"
             ],
             [
              0.4444444444444444,
              "#bd3786"
             ],
             [
              0.5555555555555556,
              "#d8576b"
             ],
             [
              0.6666666666666666,
              "#ed7953"
             ],
             [
              0.7777777777777778,
              "#fb9f3a"
             ],
             [
              0.8888888888888888,
              "#fdca26"
             ],
             [
              1,
              "#f0f921"
             ]
            ],
            "type": "histogram2dcontour"
           }
          ],
          "mesh3d": [
           {
            "colorbar": {
             "outlinewidth": 0,
             "ticks": ""
            },
            "type": "mesh3d"
           }
          ],
          "parcoords": [
           {
            "line": {
             "colorbar": {
              "outlinewidth": 0,
              "ticks": ""
             }
            },
            "type": "parcoords"
           }
          ],
          "pie": [
           {
            "automargin": true,
            "type": "pie"
           }
          ],
          "scatter": [
           {
            "fillpattern": {
             "fillmode": "overlay",
             "size": 10,
             "solidity": 0.2
            },
            "type": "scatter"
           }
          ],
          "scatter3d": [
           {
            "line": {
             "colorbar": {
              "outlinewidth": 0,
              "ticks": ""
             }
            },
            "marker": {
             "colorbar": {
              "outlinewidth": 0,
              "ticks": ""
             }
            },
            "type": "scatter3d"
           }
          ],
          "scattercarpet": [
           {
            "marker": {
             "colorbar": {
              "outlinewidth": 0,
              "ticks": ""
             }
            },
            "type": "scattercarpet"
           }
          ],
          "scattergeo": [
           {
            "marker": {
             "colorbar": {
              "outlinewidth": 0,
              "ticks": ""
             }
            },
            "type": "scattergeo"
           }
          ],
          "scattergl": [
           {
            "marker": {
             "colorbar": {
              "outlinewidth": 0,
              "ticks": ""
             }
            },
            "type": "scattergl"
           }
          ],
          "scattermapbox": [
           {
            "marker": {
             "colorbar": {
              "outlinewidth": 0,
              "ticks": ""
             }
            },
            "type": "scattermapbox"
           }
          ],
          "scatterpolar": [
           {
            "marker": {
             "colorbar": {
              "outlinewidth": 0,
              "ticks": ""
             }
            },
            "type": "scatterpolar"
           }
          ],
          "scatterpolargl": [
           {
            "marker": {
             "colorbar": {
              "outlinewidth": 0,
              "ticks": ""
             }
            },
            "type": "scatterpolargl"
           }
          ],
          "scatterternary": [
           {
            "marker": {
             "colorbar": {
              "outlinewidth": 0,
              "ticks": ""
             }
            },
            "type": "scatterternary"
           }
          ],
          "surface": [
           {
            "colorbar": {
             "outlinewidth": 0,
             "ticks": ""
            },
            "colorscale": [
             [
              0,
              "#0d0887"
             ],
             [
              0.1111111111111111,
              "#46039f"
             ],
             [
              0.2222222222222222,
              "#7201a8"
             ],
             [
              0.3333333333333333,
              "#9c179e"
             ],
             [
              0.4444444444444444,
              "#bd3786"
             ],
             [
              0.5555555555555556,
              "#d8576b"
             ],
             [
              0.6666666666666666,
              "#ed7953"
             ],
             [
              0.7777777777777778,
              "#fb9f3a"
             ],
             [
              0.8888888888888888,
              "#fdca26"
             ],
             [
              1,
              "#f0f921"
             ]
            ],
            "type": "surface"
           }
          ],
          "table": [
           {
            "cells": {
             "fill": {
              "color": "#EBF0F8"
             },
             "line": {
              "color": "white"
             }
            },
            "header": {
             "fill": {
              "color": "#C8D4E3"
             },
             "line": {
              "color": "white"
             }
            },
            "type": "table"
           }
          ]
         },
         "layout": {
          "annotationdefaults": {
           "arrowcolor": "#2a3f5f",
           "arrowhead": 0,
           "arrowwidth": 1
          },
          "autotypenumbers": "strict",
          "coloraxis": {
           "colorbar": {
            "outlinewidth": 0,
            "ticks": ""
           }
          },
          "colorscale": {
           "diverging": [
            [
             0,
             "#8e0152"
            ],
            [
             0.1,
             "#c51b7d"
            ],
            [
             0.2,
             "#de77ae"
            ],
            [
             0.3,
             "#f1b6da"
            ],
            [
             0.4,
             "#fde0ef"
            ],
            [
             0.5,
             "#f7f7f7"
            ],
            [
             0.6,
             "#e6f5d0"
            ],
            [
             0.7,
             "#b8e186"
            ],
            [
             0.8,
             "#7fbc41"
            ],
            [
             0.9,
             "#4d9221"
            ],
            [
             1,
             "#276419"
            ]
           ],
           "sequential": [
            [
             0,
             "#0d0887"
            ],
            [
             0.1111111111111111,
             "#46039f"
            ],
            [
             0.2222222222222222,
             "#7201a8"
            ],
            [
             0.3333333333333333,
             "#9c179e"
            ],
            [
             0.4444444444444444,
             "#bd3786"
            ],
            [
             0.5555555555555556,
             "#d8576b"
            ],
            [
             0.6666666666666666,
             "#ed7953"
            ],
            [
             0.7777777777777778,
             "#fb9f3a"
            ],
            [
             0.8888888888888888,
             "#fdca26"
            ],
            [
             1,
             "#f0f921"
            ]
           ],
           "sequentialminus": [
            [
             0,
             "#0d0887"
            ],
            [
             0.1111111111111111,
             "#46039f"
            ],
            [
             0.2222222222222222,
             "#7201a8"
            ],
            [
             0.3333333333333333,
             "#9c179e"
            ],
            [
             0.4444444444444444,
             "#bd3786"
            ],
            [
             0.5555555555555556,
             "#d8576b"
            ],
            [
             0.6666666666666666,
             "#ed7953"
            ],
            [
             0.7777777777777778,
             "#fb9f3a"
            ],
            [
             0.8888888888888888,
             "#fdca26"
            ],
            [
             1,
             "#f0f921"
            ]
           ]
          },
          "colorway": [
           "#636efa",
           "#EF553B",
           "#00cc96",
           "#ab63fa",
           "#FFA15A",
           "#19d3f3",
           "#FF6692",
           "#B6E880",
           "#FF97FF",
           "#FECB52"
          ],
          "font": {
           "color": "#2a3f5f"
          },
          "geo": {
           "bgcolor": "white",
           "lakecolor": "white",
           "landcolor": "#E5ECF6",
           "showlakes": true,
           "showland": true,
           "subunitcolor": "white"
          },
          "hoverlabel": {
           "align": "left"
          },
          "hovermode": "closest",
          "mapbox": {
           "style": "light"
          },
          "paper_bgcolor": "white",
          "plot_bgcolor": "#E5ECF6",
          "polar": {
           "angularaxis": {
            "gridcolor": "white",
            "linecolor": "white",
            "ticks": ""
           },
           "bgcolor": "#E5ECF6",
           "radialaxis": {
            "gridcolor": "white",
            "linecolor": "white",
            "ticks": ""
           }
          },
          "scene": {
           "xaxis": {
            "backgroundcolor": "#E5ECF6",
            "gridcolor": "white",
            "gridwidth": 2,
            "linecolor": "white",
            "showbackground": true,
            "ticks": "",
            "zerolinecolor": "white"
           },
           "yaxis": {
            "backgroundcolor": "#E5ECF6",
            "gridcolor": "white",
            "gridwidth": 2,
            "linecolor": "white",
            "showbackground": true,
            "ticks": "",
            "zerolinecolor": "white"
           },
           "zaxis": {
            "backgroundcolor": "#E5ECF6",
            "gridcolor": "white",
            "gridwidth": 2,
            "linecolor": "white",
            "showbackground": true,
            "ticks": "",
            "zerolinecolor": "white"
           }
          },
          "shapedefaults": {
           "line": {
            "color": "#2a3f5f"
           }
          },
          "ternary": {
           "aaxis": {
            "gridcolor": "white",
            "linecolor": "white",
            "ticks": ""
           },
           "baxis": {
            "gridcolor": "white",
            "linecolor": "white",
            "ticks": ""
           },
           "bgcolor": "#E5ECF6",
           "caxis": {
            "gridcolor": "white",
            "linecolor": "white",
            "ticks": ""
           }
          },
          "title": {
           "x": 0.05
          },
          "xaxis": {
           "automargin": true,
           "gridcolor": "white",
           "linecolor": "white",
           "ticks": "",
           "title": {
            "standoff": 15
           },
           "zerolinecolor": "white",
           "zerolinewidth": 2
          },
          "yaxis": {
           "automargin": true,
           "gridcolor": "white",
           "linecolor": "white",
           "ticks": "",
           "title": {
            "standoff": 15
           },
           "zerolinecolor": "white",
           "zerolinewidth": 2
          }
         }
        },
        "xaxis": {
         "anchor": "y",
         "domain": [
          0,
          1
         ]
        },
        "yaxis": {
         "anchor": "x",
         "domain": [
          0,
          1
         ]
        }
       }
      },
      "text/html": [
       "<div>                            <div id=\"ef5a0ad7-f591-4a86-a35a-f26b83ae15d0\" class=\"plotly-graph-div\" style=\"height:525px; width:100%;\"></div>            <script type=\"text/javascript\">                require([\"plotly\"], function(Plotly) {                    window.PLOTLYENV=window.PLOTLYENV || {};                                    if (document.getElementById(\"ef5a0ad7-f591-4a86-a35a-f26b83ae15d0\")) {                    Plotly.newPlot(                        \"ef5a0ad7-f591-4a86-a35a-f26b83ae15d0\",                        [{\"hovertemplate\":\"<extra></extra>\",\"legendgroup\":\"\",\"marker\":{\"color\":\"#636efa\",\"symbol\":\"circle\"},\"mode\":\"markers\",\"name\":\"\",\"orientation\":\"v\",\"showlegend\":false,\"xaxis\":\"x\",\"yaxis\":\"y\",\"type\":\"scatter\"},{\"x\":[2015,2016,2017,2018,2019],\"y\":[0.0,0.1568228105906321,0.4541751527494905,0.7321792260692467,1.0],\"type\":\"scatter\"},{\"x\":[2015,2016,2017,2018,2019],\"y\":[0.9349749370065358,1.0,0.6773570671354749,0.6065110026154076,0.0],\"type\":\"scatter\"}],                        {\"template\":{\"data\":{\"histogram2dcontour\":[{\"type\":\"histogram2dcontour\",\"colorbar\":{\"outlinewidth\":0,\"ticks\":\"\"},\"colorscale\":[[0.0,\"#0d0887\"],[0.1111111111111111,\"#46039f\"],[0.2222222222222222,\"#7201a8\"],[0.3333333333333333,\"#9c179e\"],[0.4444444444444444,\"#bd3786\"],[0.5555555555555556,\"#d8576b\"],[0.6666666666666666,\"#ed7953\"],[0.7777777777777778,\"#fb9f3a\"],[0.8888888888888888,\"#fdca26\"],[1.0,\"#f0f921\"]]}],\"choropleth\":[{\"type\":\"choropleth\",\"colorbar\":{\"outlinewidth\":0,\"ticks\":\"\"}}],\"histogram2d\":[{\"type\":\"histogram2d\",\"colorbar\":{\"outlinewidth\":0,\"ticks\":\"\"},\"colorscale\":[[0.0,\"#0d0887\"],[0.1111111111111111,\"#46039f\"],[0.2222222222222222,\"#7201a8\"],[0.3333333333333333,\"#9c179e\"],[0.4444444444444444,\"#bd3786\"],[0.5555555555555556,\"#d8576b\"],[0.6666666666666666,\"#ed7953\"],[0.7777777777777778,\"#fb9f3a\"],[0.8888888888888888,\"#fdca26\"],[1.0,\"#f0f921\"]]}],\"heatmap\":[{\"type\":\"heatmap\",\"colorbar\":{\"outlinewidth\":0,\"ticks\":\"\"},\"colorscale\":[[0.0,\"#0d0887\"],[0.1111111111111111,\"#46039f\"],[0.2222222222222222,\"#7201a8\"],[0.3333333333333333,\"#9c179e\"],[0.4444444444444444,\"#bd3786\"],[0.5555555555555556,\"#d8576b\"],[0.6666666666666666,\"#ed7953\"],[0.7777777777777778,\"#fb9f3a\"],[0.8888888888888888,\"#fdca26\"],[1.0,\"#f0f921\"]]}],\"heatmapgl\":[{\"type\":\"heatmapgl\",\"colorbar\":{\"outlinewidth\":0,\"ticks\":\"\"},\"colorscale\":[[0.0,\"#0d0887\"],[0.1111111111111111,\"#46039f\"],[0.2222222222222222,\"#7201a8\"],[0.3333333333333333,\"#9c179e\"],[0.4444444444444444,\"#bd3786\"],[0.5555555555555556,\"#d8576b\"],[0.6666666666666666,\"#ed7953\"],[0.7777777777777778,\"#fb9f3a\"],[0.8888888888888888,\"#fdca26\"],[1.0,\"#f0f921\"]]}],\"contourcarpet\":[{\"type\":\"contourcarpet\",\"colorbar\":{\"outlinewidth\":0,\"ticks\":\"\"}}],\"contour\":[{\"type\":\"contour\",\"colorbar\":{\"outlinewidth\":0,\"ticks\":\"\"},\"colorscale\":[[0.0,\"#0d0887\"],[0.1111111111111111,\"#46039f\"],[0.2222222222222222,\"#7201a8\"],[0.3333333333333333,\"#9c179e\"],[0.4444444444444444,\"#bd3786\"],[0.5555555555555556,\"#d8576b\"],[0.6666666666666666,\"#ed7953\"],[0.7777777777777778,\"#fb9f3a\"],[0.8888888888888888,\"#fdca26\"],[1.0,\"#f0f921\"]]}],\"surface\":[{\"type\":\"surface\",\"colorbar\":{\"outlinewidth\":0,\"ticks\":\"\"},\"colorscale\":[[0.0,\"#0d0887\"],[0.1111111111111111,\"#46039f\"],[0.2222222222222222,\"#7201a8\"],[0.3333333333333333,\"#9c179e\"],[0.4444444444444444,\"#bd3786\"],[0.5555555555555556,\"#d8576b\"],[0.6666666666666666,\"#ed7953\"],[0.7777777777777778,\"#fb9f3a\"],[0.8888888888888888,\"#fdca26\"],[1.0,\"#f0f921\"]]}],\"mesh3d\":[{\"type\":\"mesh3d\",\"colorbar\":{\"outlinewidth\":0,\"ticks\":\"\"}}],\"scatter\":[{\"fillpattern\":{\"fillmode\":\"overlay\",\"size\":10,\"solidity\":0.2},\"type\":\"scatter\"}],\"parcoords\":[{\"type\":\"parcoords\",\"line\":{\"colorbar\":{\"outlinewidth\":0,\"ticks\":\"\"}}}],\"scatterpolargl\":[{\"type\":\"scatterpolargl\",\"marker\":{\"colorbar\":{\"outlinewidth\":0,\"ticks\":\"\"}}}],\"bar\":[{\"error_x\":{\"color\":\"#2a3f5f\"},\"error_y\":{\"color\":\"#2a3f5f\"},\"marker\":{\"line\":{\"color\":\"#E5ECF6\",\"width\":0.5},\"pattern\":{\"fillmode\":\"overlay\",\"size\":10,\"solidity\":0.2}},\"type\":\"bar\"}],\"scattergeo\":[{\"type\":\"scattergeo\",\"marker\":{\"colorbar\":{\"outlinewidth\":0,\"ticks\":\"\"}}}],\"scatterpolar\":[{\"type\":\"scatterpolar\",\"marker\":{\"colorbar\":{\"outlinewidth\":0,\"ticks\":\"\"}}}],\"histogram\":[{\"marker\":{\"pattern\":{\"fillmode\":\"overlay\",\"size\":10,\"solidity\":0.2}},\"type\":\"histogram\"}],\"scattergl\":[{\"type\":\"scattergl\",\"marker\":{\"colorbar\":{\"outlinewidth\":0,\"ticks\":\"\"}}}],\"scatter3d\":[{\"type\":\"scatter3d\",\"line\":{\"colorbar\":{\"outlinewidth\":0,\"ticks\":\"\"}},\"marker\":{\"colorbar\":{\"outlinewidth\":0,\"ticks\":\"\"}}}],\"scattermapbox\":[{\"type\":\"scattermapbox\",\"marker\":{\"colorbar\":{\"outlinewidth\":0,\"ticks\":\"\"}}}],\"scatterternary\":[{\"type\":\"scatterternary\",\"marker\":{\"colorbar\":{\"outlinewidth\":0,\"ticks\":\"\"}}}],\"scattercarpet\":[{\"type\":\"scattercarpet\",\"marker\":{\"colorbar\":{\"outlinewidth\":0,\"ticks\":\"\"}}}],\"carpet\":[{\"aaxis\":{\"endlinecolor\":\"#2a3f5f\",\"gridcolor\":\"white\",\"linecolor\":\"white\",\"minorgridcolor\":\"white\",\"startlinecolor\":\"#2a3f5f\"},\"baxis\":{\"endlinecolor\":\"#2a3f5f\",\"gridcolor\":\"white\",\"linecolor\":\"white\",\"minorgridcolor\":\"white\",\"startlinecolor\":\"#2a3f5f\"},\"type\":\"carpet\"}],\"table\":[{\"cells\":{\"fill\":{\"color\":\"#EBF0F8\"},\"line\":{\"color\":\"white\"}},\"header\":{\"fill\":{\"color\":\"#C8D4E3\"},\"line\":{\"color\":\"white\"}},\"type\":\"table\"}],\"barpolar\":[{\"marker\":{\"line\":{\"color\":\"#E5ECF6\",\"width\":0.5},\"pattern\":{\"fillmode\":\"overlay\",\"size\":10,\"solidity\":0.2}},\"type\":\"barpolar\"}],\"pie\":[{\"automargin\":true,\"type\":\"pie\"}]},\"layout\":{\"autotypenumbers\":\"strict\",\"colorway\":[\"#636efa\",\"#EF553B\",\"#00cc96\",\"#ab63fa\",\"#FFA15A\",\"#19d3f3\",\"#FF6692\",\"#B6E880\",\"#FF97FF\",\"#FECB52\"],\"font\":{\"color\":\"#2a3f5f\"},\"hovermode\":\"closest\",\"hoverlabel\":{\"align\":\"left\"},\"paper_bgcolor\":\"white\",\"plot_bgcolor\":\"#E5ECF6\",\"polar\":{\"bgcolor\":\"#E5ECF6\",\"angularaxis\":{\"gridcolor\":\"white\",\"linecolor\":\"white\",\"ticks\":\"\"},\"radialaxis\":{\"gridcolor\":\"white\",\"linecolor\":\"white\",\"ticks\":\"\"}},\"ternary\":{\"bgcolor\":\"#E5ECF6\",\"aaxis\":{\"gridcolor\":\"white\",\"linecolor\":\"white\",\"ticks\":\"\"},\"baxis\":{\"gridcolor\":\"white\",\"linecolor\":\"white\",\"ticks\":\"\"},\"caxis\":{\"gridcolor\":\"white\",\"linecolor\":\"white\",\"ticks\":\"\"}},\"coloraxis\":{\"colorbar\":{\"outlinewidth\":0,\"ticks\":\"\"}},\"colorscale\":{\"sequential\":[[0.0,\"#0d0887\"],[0.1111111111111111,\"#46039f\"],[0.2222222222222222,\"#7201a8\"],[0.3333333333333333,\"#9c179e\"],[0.4444444444444444,\"#bd3786\"],[0.5555555555555556,\"#d8576b\"],[0.6666666666666666,\"#ed7953\"],[0.7777777777777778,\"#fb9f3a\"],[0.8888888888888888,\"#fdca26\"],[1.0,\"#f0f921\"]],\"sequentialminus\":[[0.0,\"#0d0887\"],[0.1111111111111111,\"#46039f\"],[0.2222222222222222,\"#7201a8\"],[0.3333333333333333,\"#9c179e\"],[0.4444444444444444,\"#bd3786\"],[0.5555555555555556,\"#d8576b\"],[0.6666666666666666,\"#ed7953\"],[0.7777777777777778,\"#fb9f3a\"],[0.8888888888888888,\"#fdca26\"],[1.0,\"#f0f921\"]],\"diverging\":[[0,\"#8e0152\"],[0.1,\"#c51b7d\"],[0.2,\"#de77ae\"],[0.3,\"#f1b6da\"],[0.4,\"#fde0ef\"],[0.5,\"#f7f7f7\"],[0.6,\"#e6f5d0\"],[0.7,\"#b8e186\"],[0.8,\"#7fbc41\"],[0.9,\"#4d9221\"],[1,\"#276419\"]]},\"xaxis\":{\"gridcolor\":\"white\",\"linecolor\":\"white\",\"ticks\":\"\",\"title\":{\"standoff\":15},\"zerolinecolor\":\"white\",\"automargin\":true,\"zerolinewidth\":2},\"yaxis\":{\"gridcolor\":\"white\",\"linecolor\":\"white\",\"ticks\":\"\",\"title\":{\"standoff\":15},\"zerolinecolor\":\"white\",\"automargin\":true,\"zerolinewidth\":2},\"scene\":{\"xaxis\":{\"backgroundcolor\":\"#E5ECF6\",\"gridcolor\":\"white\",\"linecolor\":\"white\",\"showbackground\":true,\"ticks\":\"\",\"zerolinecolor\":\"white\",\"gridwidth\":2},\"yaxis\":{\"backgroundcolor\":\"#E5ECF6\",\"gridcolor\":\"white\",\"linecolor\":\"white\",\"showbackground\":true,\"ticks\":\"\",\"zerolinecolor\":\"white\",\"gridwidth\":2},\"zaxis\":{\"backgroundcolor\":\"#E5ECF6\",\"gridcolor\":\"white\",\"linecolor\":\"white\",\"showbackground\":true,\"ticks\":\"\",\"zerolinecolor\":\"white\",\"gridwidth\":2}},\"shapedefaults\":{\"line\":{\"color\":\"#2a3f5f\"}},\"annotationdefaults\":{\"arrowcolor\":\"#2a3f5f\",\"arrowhead\":0,\"arrowwidth\":1},\"geo\":{\"bgcolor\":\"white\",\"landcolor\":\"#E5ECF6\",\"subunitcolor\":\"white\",\"showland\":true,\"showlakes\":true,\"lakecolor\":\"white\"},\"title\":{\"x\":0.05},\"mapbox\":{\"style\":\"light\"}}},\"xaxis\":{\"anchor\":\"y\",\"domain\":[0.0,1.0]},\"yaxis\":{\"anchor\":\"x\",\"domain\":[0.0,1.0]},\"legend\":{\"tracegroupgap\":0},\"margin\":{\"t\":60}},                        {\"responsive\": true}                    ).then(function(){\n",
       "                            \n",
       "var gd = document.getElementById('ef5a0ad7-f591-4a86-a35a-f26b83ae15d0');\n",
       "var x = new MutationObserver(function (mutations, observer) {{\n",
       "        var display = window.getComputedStyle(gd).display;\n",
       "        if (!display || display === 'none') {{\n",
       "            console.log([gd, 'removed!']);\n",
       "            Plotly.purge(gd);\n",
       "            observer.disconnect();\n",
       "        }}\n",
       "}});\n",
       "\n",
       "// Listen for the removal of the full notebook cells\n",
       "var notebookContainer = gd.closest('#notebook-container');\n",
       "if (notebookContainer) {{\n",
       "    x.observe(notebookContainer, {childList: true});\n",
       "}}\n",
       "\n",
       "// Listen for the clearing of the current output cell\n",
       "var outputEl = gd.closest('.output');\n",
       "if (outputEl) {{\n",
       "    x.observe(outputEl, {childList: true});\n",
       "}}\n",
       "\n",
       "                        })                };                });            </script>        </div>"
      ]
     },
     "metadata": {},
     "output_type": "display_data"
    }
   ],
   "source": [
    "# x and y given as array_like objects\n",
    "import plotly.express as px\n",
    "fig1 = px.scatter()\n",
    "fig1.add_trace(go.Scatter(x=[2015, 2016, 2017, 2018, 2019], y=ar1))\n",
    "fig1.add_trace(go.Scatter(x=[2015, 2016, 2017, 2018, 2019], y=ar2))\n",
    "fig1.show()"
   ]
  },
  {
   "cell_type": "code",
   "execution_count": 164,
   "id": "4cb3321c",
   "metadata": {},
   "outputs": [],
   "source": [
    "corr = gdp_df.corrwith(pop_access_elec_df)"
   ]
  },
  {
   "cell_type": "code",
   "execution_count": 167,
   "id": "691a42e7",
   "metadata": {},
   "outputs": [
    {
     "data": {
      "text/plain": [
       "2015    0.233096\n",
       "2016    0.121717\n",
       "2017    0.129492\n",
       "2018   -0.039606\n",
       "2019   -0.081848\n",
       "2020         NaN\n",
       "2021         NaN\n",
       "dtype: float64"
      ]
     },
     "execution_count": 167,
     "metadata": {},
     "output_type": "execute_result"
    }
   ],
   "source": [
    "corr"
   ]
  },
  {
   "cell_type": "code",
   "execution_count": 166,
   "id": "df7f2d82",
   "metadata": {},
   "outputs": [
    {
     "data": {
      "image/png": "[encoded data removed]",
      "text/plain": [
       "<Figure size 640x480 with 2 Axes>"
      ]
     },
     "metadata": {},
     "output_type": "display_data"
    }
   ],
   "source": [
    "corr1 = np.asarray(corr).reshape(7,1)\n",
    "dataplot = sns.heatmap(corr1, cmap=\"YlGnBu\", annot=True)"
   ]
  },
  {
   "cell_type": "code",
   "execution_count": 179,
   "id": "7e2ceba8",
   "metadata": {},
   "outputs": [],
   "source": []
  },
  {
   "cell_type": "code",
   "execution_count": 180,
   "id": "8d7b6a8f",
   "metadata": {},
   "outputs": [
    {
     "data": {
      "text/plain": [
       "2015   NaN\n",
       "2016   NaN\n",
       "2017   NaN\n",
       "2018   NaN\n",
       "2019   NaN\n",
       "2020   NaN\n",
       "2021   NaN\n",
       "dtype: float64"
      ]
     },
     "execution_count": 180,
     "metadata": {},
     "output_type": "execute_result"
    }
   ],
   "source": [
    "corr"
   ]
  },
  {
   "cell_type": "code",
   "execution_count": null,
   "id": "b1eb1fd7",
   "metadata": {},
   "outputs": [],
   "source": []
  }
 ],
 "metadata": {
  "kernelspec": {
   "display_name": "Python 3 (ipykernel)",
   "language": "python",
   "name": "python3"
  },
  "language_info": {
   "codemirror_mode": {
    "name": "ipython",
    "version": 3
   },
   "file_extension": ".py",
   "mimetype": "text/x-python",
   "name": "python",
   "nbconvert_exporter": "python",
   "pygments_lexer": "ipython3",
   "version": "3.9.13"
  }
 },
 "nbformat": 4,
 "nbformat_minor": 5
}
